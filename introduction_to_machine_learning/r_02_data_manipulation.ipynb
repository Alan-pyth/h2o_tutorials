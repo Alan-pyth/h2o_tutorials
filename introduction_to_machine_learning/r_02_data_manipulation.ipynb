{
 "cells": [
  {
   "cell_type": "markdown",
   "metadata": {},
   "source": [
    "# Machine Learning with H2O - Tutorial 2: Basic Data Manipulation\n",
    "\n",
    "<hr>\n",
    "\n",
    "**Objective**:\n",
    "\n",
    "- This tutorial demonstrates basic data manipulation with H2O.\n",
    "\n",
    "<hr>\n",
    "\n",
    "**Titanic Dataset:**\n",
    "\n",
    "- Source: https://www.kaggle.com/c/titanic/data\n",
    "\n",
    "<hr>\n",
    "\n",
    "**Full Technical Reference:**\n",
    "\n",
    "- http://docs.h2o.ai/h2o/latest-stable/h2o-r/h2o_package.pdf\n",
    "\n",
    "<br>\n"
   ]
  },
  {
   "cell_type": "code",
   "execution_count": 1,
   "metadata": {
    "collapsed": false
   },
   "outputs": [
    {
     "name": "stdout",
     "output_type": "stream",
     "text": [
      "\n",
      "H2O is not running yet, starting it now...\n",
      "\n",
      "Note:  In case of errors look at the following log files:\n",
      "    /tmp/RtmpbdMk2Q/h2o_joe_started_from_r.out\n",
      "    /tmp/RtmpbdMk2Q/h2o_joe_started_from_r.err\n",
      "\n",
      "\n",
      "Starting H2O JVM and connecting: .. Connection successful!\n",
      "\n",
      "R is connected to the H2O cluster: \n",
      "    H2O cluster uptime:         2 seconds 41 milliseconds \n",
      "    H2O cluster version:        3.10.4.4 \n",
      "    H2O cluster version age:    5 days  \n",
      "    H2O cluster name:           H2O_started_from_R_joe_rof084 \n",
      "    H2O cluster total nodes:    1 \n",
      "    H2O cluster total memory:   5.21 GB \n",
      "    H2O cluster total cores:    8 \n",
      "    H2O cluster allowed cores:  8 \n",
      "    H2O cluster healthy:        TRUE \n",
      "    H2O Connection ip:          localhost \n",
      "    H2O Connection port:        54321 \n",
      "    H2O Connection proxy:       NA \n",
      "    H2O Internal Security:      FALSE \n",
      "    R Version:                  R version 3.3.2 (2016-10-31) \n",
      "\n"
     ]
    }
   ],
   "source": [
    "# Start and connect to a local H2O cluster\n",
    "suppressPackageStartupMessages(library(h2o))\n",
    "h2o.init(nthreads = -1)"
   ]
  },
  {
   "cell_type": "code",
   "execution_count": 2,
   "metadata": {
    "collapsed": false
   },
   "outputs": [
    {
     "name": "stdout",
     "output_type": "stream",
     "text": [
      "\r",
      "  |                                                                            \r",
      "  |                                                                      |   0%\r",
      "  |                                                                            \r",
      "  |======================================================================| 100%\n"
     ]
    }
   ],
   "source": [
    "# Import Titanic data (local CSV)\n",
    "titanic = h2o.importFile(\"kaggle_titanic.csv\")"
   ]
  },
  {
   "cell_type": "code",
   "execution_count": 3,
   "metadata": {
    "collapsed": false
   },
   "outputs": [
    {
     "data": {
      "text/html": [
       "<table>\n",
       "<thead><tr><th scope=col>PassengerId</th><th scope=col>Survived</th><th scope=col>Pclass</th><th scope=col>Name</th><th scope=col>Sex</th><th scope=col>Age</th><th scope=col>SibSp</th><th scope=col>Parch</th><th scope=col>Ticket</th><th scope=col>Fare</th><th scope=col>Cabin</th><th scope=col>Embarked</th></tr></thead>\n",
       "<tbody>\n",
       "\t<tr><td> 1                                                 </td><td>0                                                  </td><td>3                                                  </td><td>Braund, Mr. Owen Harris                            </td><td>male                                               </td><td> 22                                                </td><td>1                                                  </td><td>0                                                  </td><td>   NaN                                             </td><td> 7.2500                                            </td><td>NA                                                 </td><td>S                                                  </td></tr>\n",
       "\t<tr><td> 2                                                 </td><td>1                                                  </td><td>1                                                  </td><td>Cumings, Mrs. John Bradley (Florence Briggs Thayer)</td><td>female                                             </td><td> 38                                                </td><td>1                                                  </td><td>0                                                  </td><td>   NaN                                             </td><td>71.2833                                            </td><td>C85                                                </td><td>C                                                  </td></tr>\n",
       "\t<tr><td> 3                                                 </td><td>1                                                  </td><td>3                                                  </td><td>Heikkinen, Miss. Laina                             </td><td>female                                             </td><td> 26                                                </td><td>0                                                  </td><td>0                                                  </td><td>   NaN                                             </td><td> 7.9250                                            </td><td>NA                                                 </td><td>S                                                  </td></tr>\n",
       "\t<tr><td> 4                                                 </td><td>1                                                  </td><td>1                                                  </td><td>Futrelle, Mrs. Jacques Heath (Lily May Peel)       </td><td>female                                             </td><td> 35                                                </td><td>1                                                  </td><td>0                                                  </td><td>113803                                             </td><td>53.1000                                            </td><td>C123                                               </td><td>S                                                  </td></tr>\n",
       "\t<tr><td> 5                                                 </td><td>0                                                  </td><td>3                                                  </td><td>Allen, Mr. William Henry                           </td><td>male                                               </td><td> 35                                                </td><td>0                                                  </td><td>0                                                  </td><td>373450                                             </td><td> 8.0500                                            </td><td>NA                                                 </td><td>S                                                  </td></tr>\n",
       "\t<tr><td> 6                                                 </td><td>0                                                  </td><td>3                                                  </td><td>Moran, Mr. James                                   </td><td>male                                               </td><td>NaN                                                </td><td>0                                                  </td><td>0                                                  </td><td>330877                                             </td><td> 8.4583                                            </td><td>NA                                                 </td><td>Q                                                  </td></tr>\n",
       "\t<tr><td> 7                                                 </td><td>0                                                  </td><td>1                                                  </td><td>McCarthy, Mr. Timothy J                            </td><td>male                                               </td><td> 54                                                </td><td>0                                                  </td><td>0                                                  </td><td> 17463                                             </td><td>51.8625                                            </td><td>E46                                                </td><td>S                                                  </td></tr>\n",
       "\t<tr><td> 8                                                 </td><td>0                                                  </td><td>3                                                  </td><td>Palsson, Master. Gosta Leonard                     </td><td>male                                               </td><td>  2                                                </td><td>3                                                  </td><td>1                                                  </td><td>349909                                             </td><td>21.0750                                            </td><td>NA                                                 </td><td>S                                                  </td></tr>\n",
       "\t<tr><td> 9                                                 </td><td>1                                                  </td><td>3                                                  </td><td>Johnson, Mrs. Oscar W (Elisabeth Vilhelmina Berg)  </td><td>female                                             </td><td> 27                                                </td><td>0                                                  </td><td>2                                                  </td><td>347742                                             </td><td>11.1333                                            </td><td>NA                                                 </td><td>S                                                  </td></tr>\n",
       "\t<tr><td>10                                                 </td><td>1                                                  </td><td>2                                                  </td><td>Nasser, Mrs. Nicholas (Adele Achem)                </td><td>female                                             </td><td> 14                                                </td><td>1                                                  </td><td>0                                                  </td><td>237736                                             </td><td>30.0708                                            </td><td>NA                                                 </td><td>C                                                  </td></tr>\n",
       "</tbody>\n",
       "</table>\n"
      ],
      "text/latex": [
       "\\begin{tabular}{r|llllllllllll}\n",
       " PassengerId & Survived & Pclass & Name & Sex & Age & SibSp & Parch & Ticket & Fare & Cabin & Embarked\\\\\n",
       "\\hline\n",
       "\t  1                                                  & 0                                                   & 3                                                   & Braund, Mr. Owen Harris                             & male                                                &  22                                                 & 1                                                   & 0                                                   &    NaN                                              &  7.2500                                             & NA                                                  & S                                                  \\\\\n",
       "\t  2                                                  & 1                                                   & 1                                                   & Cumings, Mrs. John Bradley (Florence Briggs Thayer) & female                                              &  38                                                 & 1                                                   & 0                                                   &    NaN                                              & 71.2833                                             & C85                                                 & C                                                  \\\\\n",
       "\t  3                                                  & 1                                                   & 3                                                   & Heikkinen, Miss. Laina                              & female                                              &  26                                                 & 0                                                   & 0                                                   &    NaN                                              &  7.9250                                             & NA                                                  & S                                                  \\\\\n",
       "\t  4                                                  & 1                                                   & 1                                                   & Futrelle, Mrs. Jacques Heath (Lily May Peel)        & female                                              &  35                                                 & 1                                                   & 0                                                   & 113803                                              & 53.1000                                             & C123                                                & S                                                  \\\\\n",
       "\t  5                                                  & 0                                                   & 3                                                   & Allen, Mr. William Henry                            & male                                                &  35                                                 & 0                                                   & 0                                                   & 373450                                              &  8.0500                                             & NA                                                  & S                                                  \\\\\n",
       "\t  6                                                  & 0                                                   & 3                                                   & Moran, Mr. James                                    & male                                                & NaN                                                 & 0                                                   & 0                                                   & 330877                                              &  8.4583                                             & NA                                                  & Q                                                  \\\\\n",
       "\t  7                                                  & 0                                                   & 1                                                   & McCarthy, Mr. Timothy J                             & male                                                &  54                                                 & 0                                                   & 0                                                   &  17463                                              & 51.8625                                             & E46                                                 & S                                                  \\\\\n",
       "\t  8                                                  & 0                                                   & 3                                                   & Palsson, Master. Gosta Leonard                      & male                                                &   2                                                 & 3                                                   & 1                                                   & 349909                                              & 21.0750                                             & NA                                                  & S                                                  \\\\\n",
       "\t  9                                                  & 1                                                   & 3                                                   & Johnson, Mrs. Oscar W (Elisabeth Vilhelmina Berg)   & female                                              &  27                                                 & 0                                                   & 2                                                   & 347742                                              & 11.1333                                             & NA                                                  & S                                                  \\\\\n",
       "\t 10                                                  & 1                                                   & 2                                                   & Nasser, Mrs. Nicholas (Adele Achem)                 & female                                              &  14                                                 & 1                                                   & 0                                                   & 237736                                              & 30.0708                                             & NA                                                  & C                                                  \\\\\n",
       "\\end{tabular}\n"
      ],
      "text/markdown": [
       "\n",
       "PassengerId | Survived | Pclass | Name | Sex | Age | SibSp | Parch | Ticket | Fare | Cabin | Embarked | \n",
       "|---|---|---|---|---|---|---|---|---|---|\n",
       "|  1                                                  | 0                                                   | 3                                                   | Braund, Mr. Owen Harris                             | male                                                |  22                                                 | 1                                                   | 0                                                   |    NaN                                              |  7.2500                                             | NA                                                  | S                                                   | \n",
       "|  2                                                  | 1                                                   | 1                                                   | Cumings, Mrs. John Bradley (Florence Briggs Thayer) | female                                              |  38                                                 | 1                                                   | 0                                                   |    NaN                                              | 71.2833                                             | C85                                                 | C                                                   | \n",
       "|  3                                                  | 1                                                   | 3                                                   | Heikkinen, Miss. Laina                              | female                                              |  26                                                 | 0                                                   | 0                                                   |    NaN                                              |  7.9250                                             | NA                                                  | S                                                   | \n",
       "|  4                                                  | 1                                                   | 1                                                   | Futrelle, Mrs. Jacques Heath (Lily May Peel)        | female                                              |  35                                                 | 1                                                   | 0                                                   | 113803                                              | 53.1000                                             | C123                                                | S                                                   | \n",
       "|  5                                                  | 0                                                   | 3                                                   | Allen, Mr. William Henry                            | male                                                |  35                                                 | 0                                                   | 0                                                   | 373450                                              |  8.0500                                             | NA                                                  | S                                                   | \n",
       "|  6                                                  | 0                                                   | 3                                                   | Moran, Mr. James                                    | male                                                | NaN                                                 | 0                                                   | 0                                                   | 330877                                              |  8.4583                                             | NA                                                  | Q                                                   | \n",
       "|  7                                                  | 0                                                   | 1                                                   | McCarthy, Mr. Timothy J                             | male                                                |  54                                                 | 0                                                   | 0                                                   |  17463                                              | 51.8625                                             | E46                                                 | S                                                   | \n",
       "|  8                                                  | 0                                                   | 3                                                   | Palsson, Master. Gosta Leonard                      | male                                                |   2                                                 | 3                                                   | 1                                                   | 349909                                              | 21.0750                                             | NA                                                  | S                                                   | \n",
       "|  9                                                  | 1                                                   | 3                                                   | Johnson, Mrs. Oscar W (Elisabeth Vilhelmina Berg)   | female                                              |  27                                                 | 0                                                   | 2                                                   | 347742                                              | 11.1333                                             | NA                                                  | S                                                   | \n",
       "| 10                                                  | 1                                                   | 2                                                   | Nasser, Mrs. Nicholas (Adele Achem)                 | female                                              |  14                                                 | 1                                                   | 0                                                   | 237736                                              | 30.0708                                             | NA                                                  | C                                                   | \n",
       "\n",
       "\n"
      ],
      "text/plain": [
       "   PassengerId Survived Pclass\n",
       "1   1          0        3     \n",
       "2   2          1        1     \n",
       "3   3          1        3     \n",
       "4   4          1        1     \n",
       "5   5          0        3     \n",
       "6   6          0        3     \n",
       "7   7          0        1     \n",
       "8   8          0        3     \n",
       "9   9          1        3     \n",
       "10 10          1        2     \n",
       "   Name                                                Sex    Age SibSp Parch\n",
       "1  Braund, Mr. Owen Harris                             male    22 1     0    \n",
       "2  Cumings, Mrs. John Bradley (Florence Briggs Thayer) female  38 1     0    \n",
       "3  Heikkinen, Miss. Laina                              female  26 0     0    \n",
       "4  Futrelle, Mrs. Jacques Heath (Lily May Peel)        female  35 1     0    \n",
       "5  Allen, Mr. William Henry                            male    35 0     0    \n",
       "6  Moran, Mr. James                                    male   NaN 0     0    \n",
       "7  McCarthy, Mr. Timothy J                             male    54 0     0    \n",
       "8  Palsson, Master. Gosta Leonard                      male     2 3     1    \n",
       "9  Johnson, Mrs. Oscar W (Elisabeth Vilhelmina Berg)   female  27 0     2    \n",
       "10 Nasser, Mrs. Nicholas (Adele Achem)                 female  14 1     0    \n",
       "   Ticket Fare    Cabin Embarked\n",
       "1     NaN  7.2500 NA    S       \n",
       "2     NaN 71.2833 C85   C       \n",
       "3     NaN  7.9250 NA    S       \n",
       "4  113803 53.1000 C123  S       \n",
       "5  373450  8.0500 NA    S       \n",
       "6  330877  8.4583 NA    Q       \n",
       "7   17463 51.8625 E46   S       \n",
       "8  349909 21.0750 NA    S       \n",
       "9  347742 11.1333 NA    S       \n",
       "10 237736 30.0708 NA    C       "
      ]
     },
     "metadata": {},
     "output_type": "display_data"
    }
   ],
   "source": [
    "# Explore the dataset using various functions\n",
    "head(titanic, 10)"
   ]
  },
  {
   "cell_type": "markdown",
   "metadata": {},
   "source": [
    "<br>\n",
    "\n",
    "Explain why we need to transform\n",
    "\n",
    "<br>"
   ]
  },
  {
   "cell_type": "code",
   "execution_count": 4,
   "metadata": {
    "collapsed": false
   },
   "outputs": [
    {
     "data": {
      "text/html": [
       "<table>\n",
       "<thead><tr><th scope=col>Label</th><th scope=col>Type</th><th scope=col>Missing</th><th scope=col>Zeros</th><th scope=col>PosInf</th><th scope=col>NegInf</th><th scope=col>Min</th><th scope=col>Max</th><th scope=col>Mean</th><th scope=col>Sigma</th><th scope=col>Cardinality</th></tr></thead>\n",
       "<tbody>\n",
       "\t<tr><td>Survived         </td><td>int              </td><td>0                </td><td>549              </td><td>0                </td><td>0                </td><td>0                </td><td>1                </td><td>0.383838383838384</td><td>0.486592454264857</td><td>NA               </td></tr>\n",
       "</tbody>\n",
       "</table>\n"
      ],
      "text/latex": [
       "\\begin{tabular}{r|lllllllllll}\n",
       " Label & Type & Missing & Zeros & PosInf & NegInf & Min & Max & Mean & Sigma & Cardinality\\\\\n",
       "\\hline\n",
       "\t Survived          & int               & 0                 & 549               & 0                 & 0                 & 0                 & 1                 & 0.383838383838384 & 0.486592454264857 & NA               \\\\\n",
       "\\end{tabular}\n"
      ],
      "text/markdown": [
       "\n",
       "Label | Type | Missing | Zeros | PosInf | NegInf | Min | Max | Mean | Sigma | Cardinality | \n",
       "|---|\n",
       "| Survived          | int               | 0                 | 549               | 0                 | 0                 | 0                 | 1                 | 0.383838383838384 | 0.486592454264857 | NA                | \n",
       "\n",
       "\n"
      ],
      "text/plain": [
       "  Label    Type Missing Zeros PosInf NegInf Min Max Mean             \n",
       "1 Survived int  0       549   0      0      0   1   0.383838383838384\n",
       "  Sigma             Cardinality\n",
       "1 0.486592454264857 NA         "
      ]
     },
     "metadata": {},
     "output_type": "display_data"
    }
   ],
   "source": [
    "# Explore the column 'Survived'\n",
    "h2o.describe(titanic[, 'Survived'])"
   ]
  },
  {
   "cell_type": "code",
   "execution_count": 5,
   "metadata": {
    "collapsed": false
   },
   "outputs": [
    {
     "data": {
      "image/png": "[encoded data removed]",
      "text/plain": [
       "Plot with title “Histogram of titanic[, \"Survived\"]”"
      ]
     },
     "metadata": {},
     "output_type": "display_data"
    }
   ],
   "source": [
    "# Use hist() to create a histogram\n",
    "h2o.hist(titanic[, 'Survived'])"
   ]
  },
  {
   "cell_type": "code",
   "execution_count": 6,
   "metadata": {
    "collapsed": false
   },
   "outputs": [
    {
     "data": {
      "text/plain": [
       "  Survived Count\n",
       "1        0   549\n",
       "2        1   342\n",
       "\n",
       "[2 rows x 2 columns] "
      ]
     },
     "metadata": {},
     "output_type": "display_data"
    }
   ],
   "source": [
    "# Use table() to summarize 0s and 1s\n",
    "h2o.table(titanic[, 'Survived'])"
   ]
  },
  {
   "cell_type": "code",
   "execution_count": 7,
   "metadata": {
    "collapsed": true
   },
   "outputs": [],
   "source": [
    "# Convert 'Survived' to categorical variable\n",
    "titanic[, 'Survived'] = as.factor(titanic[, 'Survived'])"
   ]
  },
  {
   "cell_type": "code",
   "execution_count": 8,
   "metadata": {
    "collapsed": false
   },
   "outputs": [
    {
     "data": {
      "text/html": [
       "<table>\n",
       "<thead><tr><th scope=col>Label</th><th scope=col>Type</th><th scope=col>Missing</th><th scope=col>Zeros</th><th scope=col>PosInf</th><th scope=col>NegInf</th><th scope=col>Min</th><th scope=col>Max</th><th scope=col>Mean</th><th scope=col>Sigma</th><th scope=col>Cardinality</th></tr></thead>\n",
       "<tbody>\n",
       "\t<tr><td>Survived         </td><td>enum             </td><td>0                </td><td>549              </td><td>0                </td><td>0                </td><td>0                </td><td>1                </td><td>0.383838383838384</td><td>0.486592454264857</td><td>2                </td></tr>\n",
       "</tbody>\n",
       "</table>\n"
      ],
      "text/latex": [
       "\\begin{tabular}{r|lllllllllll}\n",
       " Label & Type & Missing & Zeros & PosInf & NegInf & Min & Max & Mean & Sigma & Cardinality\\\\\n",
       "\\hline\n",
       "\t Survived          & enum              & 0                 & 549               & 0                 & 0                 & 0                 & 1                 & 0.383838383838384 & 0.486592454264857 & 2                \\\\\n",
       "\\end{tabular}\n"
      ],
      "text/markdown": [
       "\n",
       "Label | Type | Missing | Zeros | PosInf | NegInf | Min | Max | Mean | Sigma | Cardinality | \n",
       "|---|\n",
       "| Survived          | enum              | 0                 | 549               | 0                 | 0                 | 0                 | 1                 | 0.383838383838384 | 0.486592454264857 | 2                 | \n",
       "\n",
       "\n"
      ],
      "text/plain": [
       "  Label    Type Missing Zeros PosInf NegInf Min Max Mean             \n",
       "1 Survived enum 0       549   0      0      0   1   0.383838383838384\n",
       "  Sigma             Cardinality\n",
       "1 0.486592454264857 2          "
      ]
     },
     "metadata": {},
     "output_type": "display_data"
    }
   ],
   "source": [
    "# Look at the summary of 'Survived' again\n",
    "# The feature is now an 'enum' (enum is the name of categorical variable in Java)\n",
    "h2o.describe(titanic[, 'Survived'])"
   ]
  },
  {
   "cell_type": "markdown",
   "metadata": {},
   "source": [
    "<br>\n",
    "\n",
    "Doing the same for 'Pclass'\n",
    "\n",
    "<br>"
   ]
  },
  {
   "cell_type": "code",
   "execution_count": 9,
   "metadata": {
    "collapsed": false
   },
   "outputs": [
    {
     "data": {
      "text/html": [
       "<table>\n",
       "<thead><tr><th scope=col>Label</th><th scope=col>Type</th><th scope=col>Missing</th><th scope=col>Zeros</th><th scope=col>PosInf</th><th scope=col>NegInf</th><th scope=col>Min</th><th scope=col>Max</th><th scope=col>Mean</th><th scope=col>Sigma</th><th scope=col>Cardinality</th></tr></thead>\n",
       "<tbody>\n",
       "\t<tr><td>Pclass           </td><td>int              </td><td>0                </td><td>0                </td><td>0                </td><td>0                </td><td>1                </td><td>3                </td><td>2.30864197530864 </td><td>0.836071240977049</td><td>NA               </td></tr>\n",
       "</tbody>\n",
       "</table>\n"
      ],
      "text/latex": [
       "\\begin{tabular}{r|lllllllllll}\n",
       " Label & Type & Missing & Zeros & PosInf & NegInf & Min & Max & Mean & Sigma & Cardinality\\\\\n",
       "\\hline\n",
       "\t Pclass            & int               & 0                 & 0                 & 0                 & 0                 & 1                 & 3                 & 2.30864197530864  & 0.836071240977049 & NA               \\\\\n",
       "\\end{tabular}\n"
      ],
      "text/markdown": [
       "\n",
       "Label | Type | Missing | Zeros | PosInf | NegInf | Min | Max | Mean | Sigma | Cardinality | \n",
       "|---|\n",
       "| Pclass            | int               | 0                 | 0                 | 0                 | 0                 | 1                 | 3                 | 2.30864197530864  | 0.836071240977049 | NA                | \n",
       "\n",
       "\n"
      ],
      "text/plain": [
       "  Label  Type Missing Zeros PosInf NegInf Min Max Mean            \n",
       "1 Pclass int  0       0     0      0      1   3   2.30864197530864\n",
       "  Sigma             Cardinality\n",
       "1 0.836071240977049 NA         "
      ]
     },
     "metadata": {},
     "output_type": "display_data"
    }
   ],
   "source": [
    "# Explore the column 'Pclass'\n",
    "h2o.describe(titanic[,'Pclass'])"
   ]
  },
  {
   "cell_type": "code",
   "execution_count": 10,
   "metadata": {
    "collapsed": false
   },
   "outputs": [
    {
     "data": {
      "image/png": "[encoded data removed]",
      "text/plain": [
       "Plot with title “Histogram of titanic[, \"Pclass\"]”"
      ]
     },
     "metadata": {},
     "output_type": "display_data"
    }
   ],
   "source": [
    "# Use hist() to create a histogram\n",
    "h2o.hist(titanic[, 'Pclass'])"
   ]
  },
  {
   "cell_type": "code",
   "execution_count": 11,
   "metadata": {
    "collapsed": false
   },
   "outputs": [
    {
     "data": {
      "text/plain": [
       "  Pclass Count\n",
       "1      1   216\n",
       "2      2   184\n",
       "3      3   491\n",
       "\n",
       "[3 rows x 2 columns] "
      ]
     },
     "metadata": {},
     "output_type": "display_data"
    }
   ],
   "source": [
    "# Use table() to summarize 1s, 2s and 3s\n",
    "h2o.table(titanic[, 'Pclass'])"
   ]
  },
  {
   "cell_type": "code",
   "execution_count": 12,
   "metadata": {
    "collapsed": true
   },
   "outputs": [],
   "source": [
    "# Convert 'Pclass' to categorical variable\n",
    "titanic[, 'Pclass'] = as.factor(titanic[, 'Pclass'])"
   ]
  },
  {
   "cell_type": "code",
   "execution_count": 13,
   "metadata": {
    "collapsed": false
   },
   "outputs": [
    {
     "data": {
      "text/html": [
       "<table>\n",
       "<thead><tr><th scope=col>Label</th><th scope=col>Type</th><th scope=col>Missing</th><th scope=col>Zeros</th><th scope=col>PosInf</th><th scope=col>NegInf</th><th scope=col>Min</th><th scope=col>Max</th><th scope=col>Mean</th><th scope=col>Sigma</th><th scope=col>Cardinality</th></tr></thead>\n",
       "<tbody>\n",
       "\t<tr><td>Pclass</td><td>enum  </td><td>0     </td><td>216   </td><td>0     </td><td>0     </td><td>0     </td><td>2     </td><td>NA    </td><td>NA    </td><td>3     </td></tr>\n",
       "</tbody>\n",
       "</table>\n"
      ],
      "text/latex": [
       "\\begin{tabular}{r|lllllllllll}\n",
       " Label & Type & Missing & Zeros & PosInf & NegInf & Min & Max & Mean & Sigma & Cardinality\\\\\n",
       "\\hline\n",
       "\t Pclass & enum   & 0      & 216    & 0      & 0      & 0      & 2      & NA     & NA     & 3     \\\\\n",
       "\\end{tabular}\n"
      ],
      "text/markdown": [
       "\n",
       "Label | Type | Missing | Zeros | PosInf | NegInf | Min | Max | Mean | Sigma | Cardinality | \n",
       "|---|\n",
       "| Pclass | enum   | 0      | 216    | 0      | 0      | 0      | 2      | NA     | NA     | 3      | \n",
       "\n",
       "\n"
      ],
      "text/plain": [
       "  Label  Type Missing Zeros PosInf NegInf Min Max Mean Sigma Cardinality\n",
       "1 Pclass enum 0       216   0      0      0   2   NA   NA    3          "
      ]
     },
     "metadata": {},
     "output_type": "display_data"
    }
   ],
   "source": [
    "# Look at the summary of 'Pclass' again\n",
    "# The feature is now an 'enum' (enum is the name of categorical variable in Java)\n",
    "h2o.describe(titanic[, 'Pclass'])"
   ]
  }
 ],
 "metadata": {
  "anaconda-cloud": {},
  "kernelspec": {
   "display_name": "R",
   "language": "R",
   "name": "ir"
  },
  "language_info": {
   "codemirror_mode": "r",
   "file_extension": ".r",
   "mimetype": "text/x-r-source",
   "name": "R",
   "pygments_lexer": "r",
   "version": "3.3.2"
  }
 },
 "nbformat": 4,
 "nbformat_minor": 1
}
