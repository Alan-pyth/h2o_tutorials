{
 "cells": [
  {
   "cell_type": "markdown",
   "metadata": {},
   "source": [
    "# Machine Learning with H2O - Tutorial 2: Basic Data Manipulation\n",
    "\n",
    "<hr>\n",
    "\n",
    "**Objective**:\n",
    "\n",
    "- This tutorial demonstrates basic data manipulation with H2O.\n",
    "\n",
    "<hr>\n",
    "\n",
    "**Titanic Dataset:**\n",
    "\n",
    "- Source: https://www.kaggle.com/c/titanic/data\n",
    "\n",
    "<hr>\n",
    "\n",
    "**Full Technical Reference:**\n",
    "\n",
    "- http://docs.h2o.ai/h2o/latest-stable/h2o-py/docs/frame.html\n",
    "\n",
    "<br>\n"
   ]
  },
  {
   "cell_type": "code",
   "execution_count": 1,
   "metadata": {
    "scrolled": false
   },
   "outputs": [
    {
     "name": "stdout",
     "output_type": "stream",
     "text": [
      "Checking whether there is an H2O instance running at http://localhost:54321..... not found.\n",
      "Attempting to start a local H2O server...\n",
      "  Java Version: java version \"1.8.0_121\"; Java(TM) SE Runtime Environment (build 1.8.0_121-b13); Java HotSpot(TM) 64-Bit Server VM (build 25.121-b13, mixed mode)\n",
      "  Starting server from /home/joe/anaconda3/lib/python3.5/site-packages/h2o/backend/bin/h2o.jar\n",
      "  Ice root: /tmp/tmpaicqxeg0\n",
      "  JVM stdout: /tmp/tmpaicqxeg0/h2o_joe_started_from_python.out\n",
      "  JVM stderr: /tmp/tmpaicqxeg0/h2o_joe_started_from_python.err\n",
      "  Server is running at http://127.0.0.1:54321\n",
      "Connecting to H2O server at http://127.0.0.1:54321... successful.\n"
     ]
    },
    {
     "data": {
      "text/html": [
       "<div style=\"overflow:auto\"><table style=\"width:50%\"><tr><td>H2O cluster uptime:</td>\n",
       "<td>02 secs</td></tr>\n",
       "<tr><td>H2O cluster version:</td>\n",
       "<td>3.10.4.3</td></tr>\n",
       "<tr><td>H2O cluster version age:</td>\n",
       "<td>5 days </td></tr>\n",
       "<tr><td>H2O cluster name:</td>\n",
       "<td>H2O_from_python_joe_2a1t9f</td></tr>\n",
       "<tr><td>H2O cluster total nodes:</td>\n",
       "<td>1</td></tr>\n",
       "<tr><td>H2O cluster free memory:</td>\n",
       "<td>5.210 Gb</td></tr>\n",
       "<tr><td>H2O cluster total cores:</td>\n",
       "<td>8</td></tr>\n",
       "<tr><td>H2O cluster allowed cores:</td>\n",
       "<td>8</td></tr>\n",
       "<tr><td>H2O cluster status:</td>\n",
       "<td>accepting new members, healthy</td></tr>\n",
       "<tr><td>H2O connection url:</td>\n",
       "<td>http://127.0.0.1:54321</td></tr>\n",
       "<tr><td>H2O connection proxy:</td>\n",
       "<td>None</td></tr>\n",
       "<tr><td>H2O internal security:</td>\n",
       "<td>False</td></tr>\n",
       "<tr><td>Python version:</td>\n",
       "<td>3.5.2 final</td></tr></table></div>"
      ],
      "text/plain": [
       "--------------------------  ------------------------------\n",
       "H2O cluster uptime:         02 secs\n",
       "H2O cluster version:        3.10.4.3\n",
       "H2O cluster version age:    5 days\n",
       "H2O cluster name:           H2O_from_python_joe_2a1t9f\n",
       "H2O cluster total nodes:    1\n",
       "H2O cluster free memory:    5.210 Gb\n",
       "H2O cluster total cores:    8\n",
       "H2O cluster allowed cores:  8\n",
       "H2O cluster status:         accepting new members, healthy\n",
       "H2O connection url:         http://127.0.0.1:54321\n",
       "H2O connection proxy:\n",
       "H2O internal security:      False\n",
       "Python version:             3.5.2 final\n",
       "--------------------------  ------------------------------"
      ]
     },
     "metadata": {},
     "output_type": "display_data"
    }
   ],
   "source": [
    "# Start and connect to a local H2O cluster\n",
    "import h2o\n",
    "h2o.init(nthreads = -1)"
   ]
  },
  {
   "cell_type": "markdown",
   "metadata": {},
   "source": [
    "<br>"
   ]
  },
  {
   "cell_type": "code",
   "execution_count": 2,
   "metadata": {},
   "outputs": [
    {
     "name": "stdout",
     "output_type": "stream",
     "text": [
      "Parse progress: |█████████████████████████████████████████████████████████| 100%\n"
     ]
    }
   ],
   "source": [
    "# Import Titanic data (local CSV)\n",
    "titanic = h2o.import_file(\"kaggle_titanic.csv\")"
   ]
  },
  {
   "cell_type": "code",
   "execution_count": 3,
   "metadata": {},
   "outputs": [
    {
     "data": {
      "text/html": [
       "<table>\n",
       "<thead>\n",
       "<tr><th style=\"text-align: right;\">  PassengerId</th><th style=\"text-align: right;\">  Survived</th><th style=\"text-align: right;\">  Pclass</th><th>Name                                               </th><th>Sex   </th><th style=\"text-align: right;\">  Age</th><th style=\"text-align: right;\">  SibSp</th><th style=\"text-align: right;\">  Parch</th><th style=\"text-align: right;\">  Ticket</th><th style=\"text-align: right;\">   Fare</th><th>Cabin  </th><th>Embarked  </th></tr>\n",
       "</thead>\n",
       "<tbody>\n",
       "<tr><td style=\"text-align: right;\">            1</td><td style=\"text-align: right;\">         0</td><td style=\"text-align: right;\">       3</td><td>Braund, Mr. Owen Harris                            </td><td>male  </td><td style=\"text-align: right;\">   22</td><td style=\"text-align: right;\">      1</td><td style=\"text-align: right;\">      0</td><td style=\"text-align: right;\">     nan</td><td style=\"text-align: right;\"> 7.25  </td><td>       </td><td>S         </td></tr>\n",
       "<tr><td style=\"text-align: right;\">            2</td><td style=\"text-align: right;\">         1</td><td style=\"text-align: right;\">       1</td><td>Cumings, Mrs. John Bradley (Florence Briggs Thayer)</td><td>female</td><td style=\"text-align: right;\">   38</td><td style=\"text-align: right;\">      1</td><td style=\"text-align: right;\">      0</td><td style=\"text-align: right;\">     nan</td><td style=\"text-align: right;\">71.2833</td><td>C85    </td><td>C         </td></tr>\n",
       "<tr><td style=\"text-align: right;\">            3</td><td style=\"text-align: right;\">         1</td><td style=\"text-align: right;\">       3</td><td>Heikkinen, Miss. Laina                             </td><td>female</td><td style=\"text-align: right;\">   26</td><td style=\"text-align: right;\">      0</td><td style=\"text-align: right;\">      0</td><td style=\"text-align: right;\">     nan</td><td style=\"text-align: right;\"> 7.925 </td><td>       </td><td>S         </td></tr>\n",
       "<tr><td style=\"text-align: right;\">            4</td><td style=\"text-align: right;\">         1</td><td style=\"text-align: right;\">       1</td><td>Futrelle, Mrs. Jacques Heath (Lily May Peel)       </td><td>female</td><td style=\"text-align: right;\">   35</td><td style=\"text-align: right;\">      1</td><td style=\"text-align: right;\">      0</td><td style=\"text-align: right;\">  113803</td><td style=\"text-align: right;\">53.1   </td><td>C123   </td><td>S         </td></tr>\n",
       "<tr><td style=\"text-align: right;\">            5</td><td style=\"text-align: right;\">         0</td><td style=\"text-align: right;\">       3</td><td>Allen, Mr. William Henry                           </td><td>male  </td><td style=\"text-align: right;\">   35</td><td style=\"text-align: right;\">      0</td><td style=\"text-align: right;\">      0</td><td style=\"text-align: right;\">  373450</td><td style=\"text-align: right;\"> 8.05  </td><td>       </td><td>S         </td></tr>\n",
       "<tr><td style=\"text-align: right;\">            6</td><td style=\"text-align: right;\">         0</td><td style=\"text-align: right;\">       3</td><td>Moran, Mr. James                                   </td><td>male  </td><td style=\"text-align: right;\">  nan</td><td style=\"text-align: right;\">      0</td><td style=\"text-align: right;\">      0</td><td style=\"text-align: right;\">  330877</td><td style=\"text-align: right;\"> 8.4583</td><td>       </td><td>Q         </td></tr>\n",
       "<tr><td style=\"text-align: right;\">            7</td><td style=\"text-align: right;\">         0</td><td style=\"text-align: right;\">       1</td><td>McCarthy, Mr. Timothy J                            </td><td>male  </td><td style=\"text-align: right;\">   54</td><td style=\"text-align: right;\">      0</td><td style=\"text-align: right;\">      0</td><td style=\"text-align: right;\">   17463</td><td style=\"text-align: right;\">51.8625</td><td>E46    </td><td>S         </td></tr>\n",
       "<tr><td style=\"text-align: right;\">            8</td><td style=\"text-align: right;\">         0</td><td style=\"text-align: right;\">       3</td><td>Palsson, Master. Gosta Leonard                     </td><td>male  </td><td style=\"text-align: right;\">    2</td><td style=\"text-align: right;\">      3</td><td style=\"text-align: right;\">      1</td><td style=\"text-align: right;\">  349909</td><td style=\"text-align: right;\">21.075 </td><td>       </td><td>S         </td></tr>\n",
       "<tr><td style=\"text-align: right;\">            9</td><td style=\"text-align: right;\">         1</td><td style=\"text-align: right;\">       3</td><td>Johnson, Mrs. Oscar W (Elisabeth Vilhelmina Berg)  </td><td>female</td><td style=\"text-align: right;\">   27</td><td style=\"text-align: right;\">      0</td><td style=\"text-align: right;\">      2</td><td style=\"text-align: right;\">  347742</td><td style=\"text-align: right;\">11.1333</td><td>       </td><td>S         </td></tr>\n",
       "<tr><td style=\"text-align: right;\">           10</td><td style=\"text-align: right;\">         1</td><td style=\"text-align: right;\">       2</td><td>Nasser, Mrs. Nicholas (Adele Achem)                </td><td>female</td><td style=\"text-align: right;\">   14</td><td style=\"text-align: right;\">      1</td><td style=\"text-align: right;\">      0</td><td style=\"text-align: right;\">  237736</td><td style=\"text-align: right;\">30.0708</td><td>       </td><td>C         </td></tr>\n",
       "</tbody>\n",
       "</table>"
      ]
     },
     "metadata": {},
     "output_type": "display_data"
    },
    {
     "data": {
      "text/plain": []
     },
     "execution_count": 3,
     "metadata": {},
     "output_type": "execute_result"
    }
   ],
   "source": [
    "# Explore the dataset using various functions\n",
    "titanic.head(10)"
   ]
  },
  {
   "cell_type": "markdown",
   "metadata": {},
   "source": [
    "<br>\n",
    "\n",
    "Explain why we need to transform\n",
    "\n",
    "<br>"
   ]
  },
  {
   "cell_type": "code",
   "execution_count": 4,
   "metadata": {
    "scrolled": false
   },
   "outputs": [
    {
     "data": {
      "text/html": [
       "<table>\n",
       "<thead>\n",
       "<tr><th>       </th><th>Survived          </th></tr>\n",
       "</thead>\n",
       "<tbody>\n",
       "<tr><td>type   </td><td>int               </td></tr>\n",
       "<tr><td>mins   </td><td>0.0               </td></tr>\n",
       "<tr><td>mean   </td><td>0.3838383838383838</td></tr>\n",
       "<tr><td>maxs   </td><td>1.0               </td></tr>\n",
       "<tr><td>sigma  </td><td>0.4865924542648575</td></tr>\n",
       "<tr><td>zeros  </td><td>549               </td></tr>\n",
       "<tr><td>missing</td><td>0                 </td></tr>\n",
       "<tr><td>0      </td><td>0.0               </td></tr>\n",
       "<tr><td>1      </td><td>1.0               </td></tr>\n",
       "<tr><td>2      </td><td>1.0               </td></tr>\n",
       "<tr><td>3      </td><td>1.0               </td></tr>\n",
       "<tr><td>4      </td><td>0.0               </td></tr>\n",
       "<tr><td>5      </td><td>0.0               </td></tr>\n",
       "<tr><td>6      </td><td>0.0               </td></tr>\n",
       "<tr><td>7      </td><td>0.0               </td></tr>\n",
       "<tr><td>8      </td><td>1.0               </td></tr>\n",
       "<tr><td>9      </td><td>1.0               </td></tr>\n",
       "</tbody>\n",
       "</table>"
      ]
     },
     "metadata": {},
     "output_type": "display_data"
    }
   ],
   "source": [
    "# Explore the column 'Survived'\n",
    "titanic['Survived'].summary()"
   ]
  },
  {
   "cell_type": "code",
   "execution_count": 5,
   "metadata": {},
   "outputs": [
    {
     "data": {
      "image/png": "[encoded data removed]",
      "text/plain": [
       "<matplotlib.figure.Figure at 0x7fccdb523eb8>"
      ]
     },
     "metadata": {},
     "output_type": "display_data"
    }
   ],
   "source": [
    "# Use hist() to create a histogram\n",
    "titanic['Survived'].hist()"
   ]
  },
  {
   "cell_type": "code",
   "execution_count": 6,
   "metadata": {
    "scrolled": true
   },
   "outputs": [
    {
     "data": {
      "text/html": [
       "<table>\n",
       "<thead>\n",
       "<tr><th style=\"text-align: right;\">  Survived</th><th style=\"text-align: right;\">  Count</th></tr>\n",
       "</thead>\n",
       "<tbody>\n",
       "<tr><td style=\"text-align: right;\">         0</td><td style=\"text-align: right;\">    549</td></tr>\n",
       "<tr><td style=\"text-align: right;\">         1</td><td style=\"text-align: right;\">    342</td></tr>\n",
       "</tbody>\n",
       "</table>"
      ]
     },
     "metadata": {},
     "output_type": "display_data"
    },
    {
     "data": {
      "text/plain": []
     },
     "execution_count": 6,
     "metadata": {},
     "output_type": "execute_result"
    }
   ],
   "source": [
    "# Use table() to summarize 0s and 1s\n",
    "titanic['Survived'].table()"
   ]
  },
  {
   "cell_type": "code",
   "execution_count": 7,
   "metadata": {
    "collapsed": true
   },
   "outputs": [],
   "source": [
    "# Convert 'Survived' to categorical variable\n",
    "titanic['Survived'] = titanic['Survived'].asfactor()"
   ]
  },
  {
   "cell_type": "code",
   "execution_count": 8,
   "metadata": {},
   "outputs": [
    {
     "data": {
      "text/html": [
       "<table>\n",
       "<thead>\n",
       "<tr><th>       </th><th>Survived  </th></tr>\n",
       "</thead>\n",
       "<tbody>\n",
       "<tr><td>type   </td><td>enum      </td></tr>\n",
       "<tr><td>mins   </td><td>          </td></tr>\n",
       "<tr><td>mean   </td><td>          </td></tr>\n",
       "<tr><td>maxs   </td><td>          </td></tr>\n",
       "<tr><td>sigma  </td><td>          </td></tr>\n",
       "<tr><td>zeros  </td><td>          </td></tr>\n",
       "<tr><td>missing</td><td>0         </td></tr>\n",
       "<tr><td>0      </td><td>0         </td></tr>\n",
       "<tr><td>1      </td><td>1         </td></tr>\n",
       "<tr><td>2      </td><td>1         </td></tr>\n",
       "<tr><td>3      </td><td>1         </td></tr>\n",
       "<tr><td>4      </td><td>0         </td></tr>\n",
       "<tr><td>5      </td><td>0         </td></tr>\n",
       "<tr><td>6      </td><td>0         </td></tr>\n",
       "<tr><td>7      </td><td>0         </td></tr>\n",
       "<tr><td>8      </td><td>1         </td></tr>\n",
       "<tr><td>9      </td><td>1         </td></tr>\n",
       "</tbody>\n",
       "</table>"
      ]
     },
     "metadata": {},
     "output_type": "display_data"
    }
   ],
   "source": [
    "# Look at the summary of 'Survived' again\n",
    "# The feature is now an 'enum' (enum is the name of categorical variable in Java)\n",
    "titanic['Survived'].summary()"
   ]
  },
  {
   "cell_type": "markdown",
   "metadata": {
    "collapsed": true
   },
   "source": [
    "<br>\n",
    "\n",
    "Doing the same for 'Pclass'\n",
    "\n",
    "<br>"
   ]
  },
  {
   "cell_type": "code",
   "execution_count": 9,
   "metadata": {},
   "outputs": [
    {
     "data": {
      "text/html": [
       "<table>\n",
       "<thead>\n",
       "<tr><th>       </th><th>Pclass            </th></tr>\n",
       "</thead>\n",
       "<tbody>\n",
       "<tr><td>type   </td><td>int               </td></tr>\n",
       "<tr><td>mins   </td><td>1.0               </td></tr>\n",
       "<tr><td>mean   </td><td>2.3086419753086447</td></tr>\n",
       "<tr><td>maxs   </td><td>3.0               </td></tr>\n",
       "<tr><td>sigma  </td><td>0.8360712409770491</td></tr>\n",
       "<tr><td>zeros  </td><td>0                 </td></tr>\n",
       "<tr><td>missing</td><td>0                 </td></tr>\n",
       "<tr><td>0      </td><td>3.0               </td></tr>\n",
       "<tr><td>1      </td><td>1.0               </td></tr>\n",
       "<tr><td>2      </td><td>3.0               </td></tr>\n",
       "<tr><td>3      </td><td>1.0               </td></tr>\n",
       "<tr><td>4      </td><td>3.0               </td></tr>\n",
       "<tr><td>5      </td><td>3.0               </td></tr>\n",
       "<tr><td>6      </td><td>1.0               </td></tr>\n",
       "<tr><td>7      </td><td>3.0               </td></tr>\n",
       "<tr><td>8      </td><td>3.0               </td></tr>\n",
       "<tr><td>9      </td><td>2.0               </td></tr>\n",
       "</tbody>\n",
       "</table>"
      ]
     },
     "metadata": {},
     "output_type": "display_data"
    }
   ],
   "source": [
    "# Explore the column 'Pclass'\n",
    "titanic['Pclass'].summary()"
   ]
  },
  {
   "cell_type": "code",
   "execution_count": 10,
   "metadata": {},
   "outputs": [
    {
     "data": {
      "image/png": "[encoded data removed]",
      "text/plain": [
       "<matplotlib.figure.Figure at 0x7fcd00af0be0>"
      ]
     },
     "metadata": {},
     "output_type": "display_data"
    }
   ],
   "source": [
    "# Use hist() to create a histogram\n",
    "titanic['Pclass'].hist()"
   ]
  },
  {
   "cell_type": "code",
   "execution_count": 11,
   "metadata": {},
   "outputs": [
    {
     "data": {
      "text/html": [
       "<table>\n",
       "<thead>\n",
       "<tr><th style=\"text-align: right;\">  Pclass</th><th style=\"text-align: right;\">  Count</th></tr>\n",
       "</thead>\n",
       "<tbody>\n",
       "<tr><td style=\"text-align: right;\">       1</td><td style=\"text-align: right;\">    216</td></tr>\n",
       "<tr><td style=\"text-align: right;\">       2</td><td style=\"text-align: right;\">    184</td></tr>\n",
       "<tr><td style=\"text-align: right;\">       3</td><td style=\"text-align: right;\">    491</td></tr>\n",
       "</tbody>\n",
       "</table>"
      ]
     },
     "metadata": {},
     "output_type": "display_data"
    },
    {
     "data": {
      "text/plain": []
     },
     "execution_count": 11,
     "metadata": {},
     "output_type": "execute_result"
    }
   ],
   "source": [
    "# Use table() to summarize 1s, 2s and 3s\n",
    "titanic['Pclass'].table()"
   ]
  },
  {
   "cell_type": "code",
   "execution_count": 12,
   "metadata": {
    "collapsed": true
   },
   "outputs": [],
   "source": [
    "# Convert 'Pclass' to categorical variable\n",
    "titanic['Pclass'] = titanic['Pclass'].asfactor()"
   ]
  },
  {
   "cell_type": "code",
   "execution_count": 13,
   "metadata": {},
   "outputs": [
    {
     "data": {
      "text/html": [
       "<table>\n",
       "<thead>\n",
       "<tr><th>       </th><th>Pclass  </th></tr>\n",
       "</thead>\n",
       "<tbody>\n",
       "<tr><td>type   </td><td>enum    </td></tr>\n",
       "<tr><td>mins   </td><td>        </td></tr>\n",
       "<tr><td>mean   </td><td>        </td></tr>\n",
       "<tr><td>maxs   </td><td>        </td></tr>\n",
       "<tr><td>sigma  </td><td>        </td></tr>\n",
       "<tr><td>zeros  </td><td>        </td></tr>\n",
       "<tr><td>missing</td><td>0       </td></tr>\n",
       "<tr><td>0      </td><td>3       </td></tr>\n",
       "<tr><td>1      </td><td>1       </td></tr>\n",
       "<tr><td>2      </td><td>3       </td></tr>\n",
       "<tr><td>3      </td><td>1       </td></tr>\n",
       "<tr><td>4      </td><td>3       </td></tr>\n",
       "<tr><td>5      </td><td>3       </td></tr>\n",
       "<tr><td>6      </td><td>1       </td></tr>\n",
       "<tr><td>7      </td><td>3       </td></tr>\n",
       "<tr><td>8      </td><td>3       </td></tr>\n",
       "<tr><td>9      </td><td>2       </td></tr>\n",
       "</tbody>\n",
       "</table>"
      ]
     },
     "metadata": {},
     "output_type": "display_data"
    }
   ],
   "source": [
    "# Explore the column 'Pclass' again\n",
    "titanic['Pclass'].summary()"
   ]
  }
 ],
 "metadata": {
  "anaconda-cloud": {},
  "kernelspec": {
   "display_name": "Python [conda root]",
   "language": "python",
   "name": "conda-root-py"
  },
  "language_info": {
   "codemirror_mode": {
    "name": "ipython",
    "version": 3
   },
   "file_extension": ".py",
   "mimetype": "text/x-python",
   "name": "python",
   "nbconvert_exporter": "python",
   "pygments_lexer": "ipython3",
   "version": "3.5.2"
  }
 },
 "nbformat": 4,
 "nbformat_minor": 1
}
