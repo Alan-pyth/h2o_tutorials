{
 "cells": [
  {
   "cell_type": "code",
   "execution_count": 1,
   "metadata": {
    "collapsed": true
   },
   "outputs": [],
   "source": [
    "# Credit Card Example"
   ]
  },
  {
   "cell_type": "code",
   "execution_count": 2,
   "metadata": {
    "collapsed": false,
    "scrolled": true
   },
   "outputs": [
    {
     "name": "stdout",
     "output_type": "stream",
     "text": [
      "Checking whether there is an H2O instance running at http://localhost:54321..... not found.\n",
      "Attempting to start a local H2O server...\n",
      "  Java Version: java version \"1.8.0_72\"; Java(TM) SE Runtime Environment (build 1.8.0_72-b15); Java HotSpot(TM) 64-Bit Server VM (build 25.72-b15, mixed mode)\n",
      "  Starting server from /Users/jofaichow/anaconda/lib/python3.6/site-packages/h2o/backend/bin/h2o.jar\n",
      "  Ice root: /var/folders/4z/p7yt7_4n4fj1jlyq6g4qhfbw0000gn/T/tmpxu48ip3w\n",
      "  JVM stdout: /var/folders/4z/p7yt7_4n4fj1jlyq6g4qhfbw0000gn/T/tmpxu48ip3w/h2o_jofaichow_started_from_python.out\n",
      "  JVM stderr: /var/folders/4z/p7yt7_4n4fj1jlyq6g4qhfbw0000gn/T/tmpxu48ip3w/h2o_jofaichow_started_from_python.err\n",
      "  Server is running at http://127.0.0.1:54321\n",
      "Connecting to H2O server at http://127.0.0.1:54321... successful.\n"
     ]
    },
    {
     "data": {
      "text/html": [
       "<div style=\"overflow:auto\"><table style=\"width:50%\"><tr><td>H2O cluster uptime:</td>\n",
       "<td>02 secs</td></tr>\n",
       "<tr><td>H2O cluster version:</td>\n",
       "<td>3.14.0.2</td></tr>\n",
       "<tr><td>H2O cluster version age:</td>\n",
       "<td>15 days </td></tr>\n",
       "<tr><td>H2O cluster name:</td>\n",
       "<td>H2O_from_python_jofaichow_d3n4et</td></tr>\n",
       "<tr><td>H2O cluster total nodes:</td>\n",
       "<td>1</td></tr>\n",
       "<tr><td>H2O cluster free memory:</td>\n",
       "<td>3.556 Gb</td></tr>\n",
       "<tr><td>H2O cluster total cores:</td>\n",
       "<td>8</td></tr>\n",
       "<tr><td>H2O cluster allowed cores:</td>\n",
       "<td>8</td></tr>\n",
       "<tr><td>H2O cluster status:</td>\n",
       "<td>accepting new members, healthy</td></tr>\n",
       "<tr><td>H2O connection url:</td>\n",
       "<td>http://127.0.0.1:54321</td></tr>\n",
       "<tr><td>H2O connection proxy:</td>\n",
       "<td>None</td></tr>\n",
       "<tr><td>H2O internal security:</td>\n",
       "<td>False</td></tr>\n",
       "<tr><td>H2O API Extensions:</td>\n",
       "<td>XGBoost, Algos, AutoML, Core V3, Core V4</td></tr>\n",
       "<tr><td>Python version:</td>\n",
       "<td>3.6.1 final</td></tr></table></div>"
      ],
      "text/plain": [
       "--------------------------  ----------------------------------------\n",
       "H2O cluster uptime:         02 secs\n",
       "H2O cluster version:        3.14.0.2\n",
       "H2O cluster version age:    15 days\n",
       "H2O cluster name:           H2O_from_python_jofaichow_d3n4et\n",
       "H2O cluster total nodes:    1\n",
       "H2O cluster free memory:    3.556 Gb\n",
       "H2O cluster total cores:    8\n",
       "H2O cluster allowed cores:  8\n",
       "H2O cluster status:         accepting new members, healthy\n",
       "H2O connection url:         http://127.0.0.1:54321\n",
       "H2O connection proxy:\n",
       "H2O internal security:      False\n",
       "H2O API Extensions:         XGBoost, Algos, AutoML, Core V3, Core V4\n",
       "Python version:             3.6.1 final\n",
       "--------------------------  ----------------------------------------"
      ]
     },
     "metadata": {},
     "output_type": "display_data"
    }
   ],
   "source": [
    "# Start and connect to a local H2O cluster\n",
    "import h2o\n",
    "h2o.init(nthreads = -1)"
   ]
  },
  {
   "cell_type": "code",
   "execution_count": 3,
   "metadata": {
    "collapsed": false
   },
   "outputs": [
    {
     "name": "stdout",
     "output_type": "stream",
     "text": [
      "Parse progress: |█████████████████████████████████████████████████████████| 100%\n",
      "Parse progress: |█████████████████████████████████████████████████████████| 100%\n"
     ]
    }
   ],
   "source": [
    "# Import datasets from s3\n",
    "df_train = h2o.import_file(\"https://github.com/woobe/h2o_tutorials/raw/master/datasets/credit_card_train.csv\")\n",
    "df_test = h2o.import_file(\"https://github.com/woobe/h2o_tutorials/raw/master/datasets/credit_card_test.csv\")"
   ]
  },
  {
   "cell_type": "code",
   "execution_count": 4,
   "metadata": {
    "collapsed": false,
    "scrolled": true
   },
   "outputs": [
    {
     "data": {
      "text/html": [
       "<table>\n",
       "<thead>\n",
       "<tr><th>       </th><th>LIMIT_BAL         </th><th>SEX   </th><th>EDUCATION         </th><th>MARRIAGE          </th><th>AGE              </th><th>PAY_0                </th><th>PAY_2               </th><th>PAY_3               </th><th>PAY_4               </th><th>PAY_5              </th><th>PAY_6              </th><th>BILL_AMT1        </th><th>BILL_AMT2        </th><th>BILL_AMT3        </th><th>BILL_AMT4         </th><th>BILL_AMT5        </th><th>BILL_AMT6        </th><th>PAY_AMT1          </th><th>PAY_AMT2          </th><th>PAY_AMT3          </th><th>PAY_AMT4          </th><th>PAY_AMT5          </th><th>PAY_AMT6          </th><th>DEFAULT_PAYMENT_NEXT_MONTH  </th></tr>\n",
       "</thead>\n",
       "<tbody>\n",
       "<tr><td>type   </td><td>int               </td><td>enum  </td><td>int               </td><td>int               </td><td>int              </td><td>int                  </td><td>int                 </td><td>int                 </td><td>int                 </td><td>int                </td><td>int                </td><td>int              </td><td>int              </td><td>int              </td><td>int               </td><td>int              </td><td>int              </td><td>int               </td><td>int               </td><td>int               </td><td>int               </td><td>int               </td><td>int               </td><td>enum                        </td></tr>\n",
       "<tr><td>mins   </td><td>10000.0           </td><td>      </td><td>0.0               </td><td>0.0               </td><td>21.0             </td><td>-2.0                 </td><td>-2.0                </td><td>-2.0                </td><td>-2.0                </td><td>-2.0               </td><td>-2.0               </td><td>-165580.0        </td><td>-69777.0         </td><td>-157264.0        </td><td>-170000.0         </td><td>-81334.0         </td><td>-339603.0        </td><td>0.0               </td><td>0.0               </td><td>0.0               </td><td>0.0               </td><td>0.0               </td><td>0.0               </td><td>                            </td></tr>\n",
       "<tr><td>mean   </td><td>165471.4666666669 </td><td>      </td><td>1.8499999999999963</td><td>1.5557870370370357</td><td>35.40532407407389</td><td>-0.005231481481481603</td><td>-0.12236111111111114</td><td>-0.15537037037037077</td><td>-0.21060185185185143</td><td>-0.2499537037037024</td><td>-0.2780555555555528</td><td>50566.44999999981</td><td>48656.51504629656</td><td>46412.06685185198</td><td>42411.40537037039 </td><td>40025.84819444426</td><td>38615.21180555545</td><td>5591.2800000000325</td><td>5827.203842592559 </td><td>4991.376666666621 </td><td>4750.457175925917 </td><td>4797.252500000018 </td><td>5142.894444444431 </td><td>                            </td></tr>\n",
       "<tr><td>maxs   </td><td>1000000.0         </td><td>      </td><td>6.0               </td><td>3.0               </td><td>79.0             </td><td>8.0                  </td><td>8.0                 </td><td>8.0                 </td><td>8.0                 </td><td>8.0                </td><td>8.0                </td><td>964511.0         </td><td>983931.0         </td><td>1664089.0        </td><td>891586.0          </td><td>927171.0         </td><td>961664.0         </td><td>505000.0          </td><td>1684259.0         </td><td>896040.0          </td><td>497000.0          </td><td>417990.0          </td><td>527143.0          </td><td>                            </td></tr>\n",
       "<tr><td>sigma  </td><td>128853.31483927186</td><td>      </td><td>0.7795596962780423</td><td>0.5225050784764462</td><td>9.276754216409934</td><td>1.1266896421092234   </td><td>1.200868545026891   </td><td>1.2072703090074455  </td><td>1.1721763980004694  </td><td>1.1449731299849761 </td><td>1.163634002402579  </td><td>72759.41776538265</td><td>70553.01425903433</td><td>68567.17066062194</td><td>63313.397096201465</td><td>60523.19322690942</td><td>59526.30948474179</td><td>15306.329399410382</td><td>21146.621108754254</td><td>16320.311346237959</td><td>15125.600528699153</td><td>15201.573687145492</td><td>17229.362092294108</td><td>                            </td></tr>\n",
       "<tr><td>zeros  </td><td>0                 </td><td>      </td><td>9                 </td><td>37                </td><td>0                </td><td>10563                </td><td>11284               </td><td>11309               </td><td>11905               </td><td>12148              </td><td>11548              </td><td>1439             </td><td>1848             </td><td>2093             </td><td>2284              </td><td>2557             </td><td>2931             </td><td>3850              </td><td>3932              </td><td>4351              </td><td>4709              </td><td>4887              </td><td>5291              </td><td>                            </td></tr>\n",
       "<tr><td>missing</td><td>0                 </td><td>0     </td><td>0                 </td><td>0                 </td><td>0                </td><td>0                    </td><td>0                   </td><td>0                   </td><td>0                   </td><td>0                  </td><td>0                  </td><td>0                </td><td>0                </td><td>0                </td><td>0                 </td><td>0                </td><td>0                </td><td>0                 </td><td>0                 </td><td>0                 </td><td>0                 </td><td>0                 </td><td>0                 </td><td>0                           </td></tr>\n",
       "<tr><td>0      </td><td>20000.0           </td><td>Female</td><td>2.0               </td><td>1.0               </td><td>24.0             </td><td>2.0                  </td><td>2.0                 </td><td>-1.0                </td><td>-1.0                </td><td>-2.0               </td><td>-2.0               </td><td>3913.0           </td><td>3102.0           </td><td>689.0            </td><td>0.0               </td><td>0.0              </td><td>0.0              </td><td>0.0               </td><td>689.0             </td><td>0.0               </td><td>0.0               </td><td>0.0               </td><td>0.0               </td><td>Yes                         </td></tr>\n",
       "<tr><td>1      </td><td>120000.0          </td><td>Female</td><td>2.0               </td><td>2.0               </td><td>26.0             </td><td>-1.0                 </td><td>2.0                 </td><td>0.0                 </td><td>0.0                 </td><td>0.0                </td><td>2.0                </td><td>2682.0           </td><td>1725.0           </td><td>2682.0           </td><td>3272.0            </td><td>3455.0           </td><td>3261.0           </td><td>0.0               </td><td>1000.0            </td><td>1000.0            </td><td>1000.0            </td><td>0.0               </td><td>2000.0            </td><td>Yes                         </td></tr>\n",
       "<tr><td>2      </td><td>90000.0           </td><td>Female</td><td>2.0               </td><td>2.0               </td><td>34.0             </td><td>0.0                  </td><td>0.0                 </td><td>0.0                 </td><td>0.0                 </td><td>0.0                </td><td>0.0                </td><td>29239.0          </td><td>14027.0          </td><td>13559.0          </td><td>14331.0           </td><td>14948.0          </td><td>15549.0          </td><td>1518.0            </td><td>1500.0            </td><td>1000.0            </td><td>1000.0            </td><td>1000.0            </td><td>5000.0            </td><td>No                          </td></tr>\n",
       "<tr><td>3      </td><td>50000.0           </td><td>Female</td><td>2.0               </td><td>1.0               </td><td>37.0             </td><td>0.0                  </td><td>0.0                 </td><td>0.0                 </td><td>0.0                 </td><td>0.0                </td><td>0.0                </td><td>46990.0          </td><td>48233.0          </td><td>49291.0          </td><td>28314.0           </td><td>28959.0          </td><td>29547.0          </td><td>2000.0            </td><td>2019.0            </td><td>1200.0            </td><td>1100.0            </td><td>1069.0            </td><td>1000.0            </td><td>No                          </td></tr>\n",
       "<tr><td>4      </td><td>50000.0           </td><td>Male  </td><td>2.0               </td><td>1.0               </td><td>57.0             </td><td>-1.0                 </td><td>0.0                 </td><td>-1.0                </td><td>0.0                 </td><td>0.0                </td><td>0.0                </td><td>8617.0           </td><td>5670.0           </td><td>35835.0          </td><td>20940.0           </td><td>19146.0          </td><td>19131.0          </td><td>2000.0            </td><td>36681.0           </td><td>10000.0           </td><td>9000.0            </td><td>689.0             </td><td>679.0             </td><td>No                          </td></tr>\n",
       "<tr><td>5      </td><td>100000.0          </td><td>Female</td><td>2.0               </td><td>2.0               </td><td>23.0             </td><td>0.0                  </td><td>-1.0                </td><td>-1.0                </td><td>0.0                 </td><td>0.0                </td><td>-1.0               </td><td>11876.0          </td><td>380.0            </td><td>601.0            </td><td>221.0             </td><td>-159.0           </td><td>567.0            </td><td>380.0             </td><td>601.0             </td><td>0.0               </td><td>581.0             </td><td>1687.0            </td><td>1542.0            </td><td>No                          </td></tr>\n",
       "<tr><td>6      </td><td>140000.0          </td><td>Female</td><td>3.0               </td><td>1.0               </td><td>28.0             </td><td>0.0                  </td><td>0.0                 </td><td>2.0                 </td><td>0.0                 </td><td>0.0                </td><td>0.0                </td><td>11285.0          </td><td>14096.0          </td><td>12108.0          </td><td>12211.0           </td><td>11793.0          </td><td>3719.0           </td><td>3329.0            </td><td>0.0               </td><td>432.0             </td><td>1000.0            </td><td>1000.0            </td><td>1000.0            </td><td>No                          </td></tr>\n",
       "<tr><td>7      </td><td>20000.0           </td><td>Male  </td><td>3.0               </td><td>2.0               </td><td>35.0             </td><td>-2.0                 </td><td>-2.0                </td><td>-2.0                </td><td>-2.0                </td><td>-1.0               </td><td>-1.0               </td><td>0.0              </td><td>0.0              </td><td>0.0              </td><td>0.0               </td><td>13007.0          </td><td>13912.0          </td><td>0.0               </td><td>0.0               </td><td>0.0               </td><td>13007.0           </td><td>1122.0            </td><td>0.0               </td><td>No                          </td></tr>\n",
       "<tr><td>8      </td><td>200000.0          </td><td>Female</td><td>3.0               </td><td>2.0               </td><td>34.0             </td><td>0.0                  </td><td>0.0                 </td><td>2.0                 </td><td>0.0                 </td><td>0.0                </td><td>-1.0               </td><td>11073.0          </td><td>9787.0           </td><td>5535.0           </td><td>2513.0            </td><td>1828.0           </td><td>3731.0           </td><td>2306.0            </td><td>12.0              </td><td>50.0              </td><td>300.0             </td><td>3738.0            </td><td>66.0              </td><td>No                          </td></tr>\n",
       "<tr><td>9      </td><td>630000.0          </td><td>Female</td><td>2.0               </td><td>2.0               </td><td>41.0             </td><td>-1.0                 </td><td>0.0                 </td><td>-1.0                </td><td>-1.0                </td><td>-1.0               </td><td>-1.0               </td><td>12137.0          </td><td>6500.0           </td><td>6500.0           </td><td>6500.0            </td><td>6500.0           </td><td>2870.0           </td><td>1000.0            </td><td>6500.0            </td><td>6500.0            </td><td>6500.0            </td><td>2870.0            </td><td>0.0               </td><td>No                          </td></tr>\n",
       "</tbody>\n",
       "</table>"
      ]
     },
     "metadata": {},
     "output_type": "display_data"
    },
    {
     "data": {
      "text/html": [
       "<table>\n",
       "<thead>\n",
       "<tr><th>       </th><th>LIMIT_BAL         </th><th>SEX   </th><th>EDUCATION         </th><th>MARRIAGE          </th><th>AGE              </th><th>PAY_0             </th><th>PAY_2               </th><th>PAY_3              </th><th>PAY_4              </th><th>PAY_5              </th><th>PAY_6              </th><th>BILL_AMT1        </th><th>BILL_AMT2        </th><th>BILL_AMT3         </th><th>BILL_AMT4        </th><th>BILL_AMT5         </th><th>BILL_AMT6         </th><th>PAY_AMT1          </th><th>PAY_AMT2          </th><th>PAY_AMT3          </th><th>PAY_AMT4          </th><th>PAY_AMT5          </th><th>PAY_AMT6          </th></tr>\n",
       "</thead>\n",
       "<tbody>\n",
       "<tr><td>type   </td><td>int               </td><td>enum  </td><td>int               </td><td>int               </td><td>int              </td><td>int               </td><td>int                 </td><td>int                </td><td>int                </td><td>int                </td><td>int                </td><td>int              </td><td>int              </td><td>int               </td><td>int              </td><td>int               </td><td>int               </td><td>int               </td><td>int               </td><td>int               </td><td>int               </td><td>int               </td><td>int               </td></tr>\n",
       "<tr><td>mins   </td><td>10000.0           </td><td>      </td><td>0.0               </td><td>0.0               </td><td>21.0             </td><td>-2.0              </td><td>-2.0                </td><td>-2.0               </td><td>-2.0               </td><td>-2.0               </td><td>-2.0               </td><td>-4370.0          </td><td>-22960.0         </td><td>-20320.0          </td><td>-20320.0         </td><td>-23003.0          </td><td>-51443.0          </td><td>0.0               </td><td>0.0               </td><td>0.0               </td><td>0.0               </td><td>0.0               </td><td>0.0               </td></tr>\n",
       "<tr><td>mean   </td><td>165744.06002501058</td><td>      </td><td>1.8245102125885804</td><td>1.570237598999581 </td><td>35.16048353480616</td><td>0.015839933305544 </td><td>-0.13338891204668596</td><td>-0.1492288453522303</td><td>-0.2213422259274701</td><td>-0.2792830345977483</td><td>-0.2776156731971656</td><td>50891.35848270105</td><td>48571.807002918  </td><td>45980.2717799083  </td><td>41995.92413505636</td><td>39790.609003751546</td><td>38115.572738641225</td><td>5109.279699874966 </td><td>5710.406836181736 </td><td>4771.841600666943 </td><td>4682.428511879945 </td><td>4661.113380575236 </td><td>5609.861192163388 </td></tr>\n",
       "<tr><td>maxs   </td><td>760000.0          </td><td>      </td><td>6.0               </td><td>3.0               </td><td>75.0             </td><td>8.0               </td><td>7.0                 </td><td>7.0                </td><td>7.0                </td><td>6.0                </td><td>6.0                </td><td>581775.0         </td><td>572677.0         </td><td>565550.0          </td><td>572805.0         </td><td>823540.0          </td><td>501370.0          </td><td>235728.0          </td><td>361560.0          </td><td>221876.0          </td><td>158556.0          </td><td>326889.0          </td><td>528666.0          </td></tr>\n",
       "<tr><td>sigma  </td><td>131629.37146225898</td><td>      </td><td>0.7837802153537031</td><td>0.5181907659944099</td><td>9.218486291552852</td><td>1.0938828475326325</td><td>1.1982952076029703  </td><td>1.1749711322139944 </td><td>1.1150399668262556 </td><td>1.0624535248275457 </td><td>1.1082200941910225 </td><td>71673.63487504808</td><td>68667.38319694893</td><td>64757.208253239805</td><td>60861.27653361504</td><td>58735.62514893364 </td><td>55726.16980178843 </td><td>12727.416509438242</td><td>17343.146307723284</td><td>13915.078722281569</td><td>12497.385760182793</td><td>15882.345076418098</td><td>20899.679013349487</td></tr>\n",
       "<tr><td>zeros  </td><td>0                 </td><td>      </td><td>2                 </td><td>4                 </td><td>0                </td><td>1175              </td><td>1259                </td><td>1267               </td><td>1345               </td><td>1372               </td><td>1328               </td><td>168              </td><td>201              </td><td>232               </td><td>263              </td><td>283               </td><td>327               </td><td>420               </td><td>430               </td><td>502               </td><td>491               </td><td>520               </td><td>555               </td></tr>\n",
       "<tr><td>missing</td><td>0                 </td><td>0     </td><td>0                 </td><td>0                 </td><td>0                </td><td>0                 </td><td>0                   </td><td>0                  </td><td>0                  </td><td>0                  </td><td>0                  </td><td>0                </td><td>0                </td><td>0                 </td><td>0                </td><td>0                 </td><td>0                 </td><td>0                 </td><td>0                 </td><td>0                 </td><td>0                 </td><td>0                 </td><td>0                 </td></tr>\n",
       "<tr><td>0      </td><td>50000.0           </td><td>Male  </td><td>1.0               </td><td>2.0               </td><td>37.0             </td><td>0.0               </td><td>0.0                 </td><td>0.0                </td><td>0.0                </td><td>0.0                </td><td>0.0                </td><td>64400.0          </td><td>57069.0          </td><td>57608.0           </td><td>19394.0          </td><td>19619.0           </td><td>20024.0           </td><td>2500.0            </td><td>1815.0            </td><td>657.0             </td><td>1000.0            </td><td>1000.0            </td><td>800.0             </td></tr>\n",
       "<tr><td>1      </td><td>500000.0          </td><td>Male  </td><td>1.0               </td><td>2.0               </td><td>29.0             </td><td>0.0               </td><td>0.0                 </td><td>0.0                </td><td>0.0                </td><td>0.0                </td><td>0.0                </td><td>367965.0         </td><td>412023.0         </td><td>445007.0          </td><td>542653.0         </td><td>483003.0          </td><td>473944.0          </td><td>55000.0           </td><td>40000.0           </td><td>38000.0           </td><td>20239.0           </td><td>13750.0           </td><td>13770.0           </td></tr>\n",
       "<tr><td>2      </td><td>260000.0          </td><td>Female</td><td>1.0               </td><td>2.0               </td><td>51.0             </td><td>-1.0              </td><td>-1.0                </td><td>-1.0               </td><td>-1.0               </td><td>-1.0               </td><td>2.0                </td><td>12261.0          </td><td>21670.0          </td><td>9966.0            </td><td>8517.0           </td><td>22287.0           </td><td>13668.0           </td><td>21818.0           </td><td>9966.0            </td><td>8583.0            </td><td>22301.0           </td><td>0.0               </td><td>3640.0            </td></tr>\n",
       "<tr><td>3      </td><td>50000.0           </td><td>Male  </td><td>2.0               </td><td>2.0               </td><td>33.0             </td><td>2.0               </td><td>0.0                 </td><td>0.0                </td><td>0.0                </td><td>0.0                </td><td>0.0                </td><td>30518.0          </td><td>29618.0          </td><td>22102.0           </td><td>22734.0          </td><td>23217.0           </td><td>23680.0           </td><td>1718.0            </td><td>1500.0            </td><td>1000.0            </td><td>1000.0            </td><td>1000.0            </td><td>716.0             </td></tr>\n",
       "<tr><td>4      </td><td>150000.0          </td><td>Female</td><td>5.0               </td><td>2.0               </td><td>46.0             </td><td>0.0               </td><td>0.0                 </td><td>-1.0               </td><td>0.0                </td><td>0.0                </td><td>-2.0               </td><td>4463.0           </td><td>3034.0           </td><td>1170.0            </td><td>1170.0           </td><td>0.0               </td><td>0.0               </td><td>1013.0            </td><td>1170.0            </td><td>0.0               </td><td>0.0               </td><td>0.0               </td><td>0.0               </td></tr>\n",
       "<tr><td>5      </td><td>20000.0           </td><td>Male  </td><td>1.0               </td><td>2.0               </td><td>24.0             </td><td>0.0               </td><td>0.0                 </td><td>0.0                </td><td>0.0                </td><td>0.0                </td><td>0.0                </td><td>17447.0          </td><td>18479.0          </td><td>19476.0           </td><td>19865.0          </td><td>20480.0           </td><td>20063.0           </td><td>1318.0            </td><td>1315.0            </td><td>704.0             </td><td>928.0             </td><td>912.0             </td><td>1069.0            </td></tr>\n",
       "<tr><td>6      </td><td>130000.0          </td><td>Female</td><td>2.0               </td><td>1.0               </td><td>51.0             </td><td>-1.0              </td><td>-1.0                </td><td>-2.0               </td><td>-2.0               </td><td>-1.0               </td><td>-1.0               </td><td>99.0             </td><td>0.0              </td><td>0.0               </td><td>0.0              </td><td>2353.0            </td><td>0.0               </td><td>0.0               </td><td>0.0               </td><td>0.0               </td><td>2353.0            </td><td>0.0               </td><td>0.0               </td></tr>\n",
       "<tr><td>7      </td><td>320000.0          </td><td>Male  </td><td>2.0               </td><td>2.0               </td><td>29.0             </td><td>2.0               </td><td>2.0                 </td><td>2.0                </td><td>2.0                </td><td>2.0                </td><td>2.0                </td><td>58267.0          </td><td>59246.0          </td><td>60184.0           </td><td>58622.0          </td><td>62307.0           </td><td>63526.0           </td><td>2500.0            </td><td>2500.0            </td><td>0.0               </td><td>4800.0            </td><td>2400.0            </td><td>1600.0            </td></tr>\n",
       "<tr><td>8      </td><td>50000.0           </td><td>Male  </td><td>3.0               </td><td>2.0               </td><td>25.0             </td><td>-1.0              </td><td>0.0                 </td><td>0.0                </td><td>0.0                </td><td>0.0                </td><td>0.0                </td><td>42838.0          </td><td>37225.0          </td><td>36087.0           </td><td>9636.0           </td><td>9590.0            </td><td>10030.0           </td><td>1759.0            </td><td>1779.0            </td><td>320.0             </td><td>500.0             </td><td>1000.0            </td><td>1000.0            </td></tr>\n",
       "<tr><td>9      </td><td>130000.0          </td><td>Female</td><td>1.0               </td><td>1.0               </td><td>35.0             </td><td>0.0               </td><td>0.0                 </td><td>0.0                </td><td>-1.0               </td><td>-1.0               </td><td>-1.0               </td><td>81313.0          </td><td>117866.0         </td><td>17740.0           </td><td>1330.0           </td><td>7095.0            </td><td>1190.0            </td><td>40000.0           </td><td>5000.0            </td><td>1330.0            </td><td>7095.0            </td><td>1190.0            </td><td>2090.0            </td></tr>\n",
       "</tbody>\n",
       "</table>"
      ]
     },
     "metadata": {},
     "output_type": "display_data"
    }
   ],
   "source": [
    "# Look at datasets\n",
    "df_train.summary()\n",
    "df_test.summary()"
   ]
  },
  {
   "cell_type": "code",
   "execution_count": 5,
   "metadata": {
    "collapsed": true
   },
   "outputs": [],
   "source": [
    "# Define features and target\n",
    "features = list(df_test.columns)\n",
    "target = \"DEFAULT_PAYMENT_NEXT_MONTH\""
   ]
  },
  {
   "cell_type": "code",
   "execution_count": 6,
   "metadata": {
    "collapsed": false,
    "scrolled": true
   },
   "outputs": [
    {
     "name": "stdout",
     "output_type": "stream",
     "text": [
      "gbm Model Build progress: |███████████████████████████████████████████████| 100%\n",
      "Model Details\n",
      "=============\n",
      "H2OGradientBoostingEstimator :  Gradient Boosting Machine\n",
      "Model Key:  GBM_model_python_1504729446296_1\n",
      "\n",
      "\n",
      "ModelMetricsBinomial: gbm\n",
      "** Reported on train data. **\n",
      "\n",
      "MSE: 0.12702139321348918\n",
      "RMSE: 0.35640060776251375\n",
      "LogLoss: 0.40828487643875344\n",
      "Mean Per-Class Error: 0.26254617593150686\n",
      "AUC: 0.8120294350665728\n",
      "Gini: 0.6240588701331455\n",
      "Confusion Matrix (Act/Pred) for max f1 @ threshold = 0.24157847787281111: \n"
     ]
    },
    {
     "data": {
      "text/html": [
       "<div style=\"overflow:auto\"><table style=\"width:50%\"><tr><td><b></b></td>\n",
       "<td><b>No</b></td>\n",
       "<td><b>Yes</b></td>\n",
       "<td><b>Error</b></td>\n",
       "<td><b>Rate</b></td></tr>\n",
       "<tr><td>No</td>\n",
       "<td>14020.0</td>\n",
       "<td>2747.0</td>\n",
       "<td>0.1638</td>\n",
       "<td> (2747.0/16767.0)</td></tr>\n",
       "<tr><td>Yes</td>\n",
       "<td>1786.0</td>\n",
       "<td>3047.0</td>\n",
       "<td>0.3695</td>\n",
       "<td> (1786.0/4833.0)</td></tr>\n",
       "<tr><td>Total</td>\n",
       "<td>15806.0</td>\n",
       "<td>5794.0</td>\n",
       "<td>0.2099</td>\n",
       "<td> (4533.0/21600.0)</td></tr></table></div>"
      ],
      "text/plain": [
       "       No     Yes    Error    Rate\n",
       "-----  -----  -----  -------  ----------------\n",
       "No     14020  2747   0.1638   (2747.0/16767.0)\n",
       "Yes    1786   3047   0.3695   (1786.0/4833.0)\n",
       "Total  15806  5794   0.2099   (4533.0/21600.0)"
      ]
     },
     "metadata": {},
     "output_type": "display_data"
    },
    {
     "name": "stdout",
     "output_type": "stream",
     "text": [
      "Maximum Metrics: Maximum metrics at their respective thresholds\n",
      "\n"
     ]
    },
    {
     "data": {
      "text/html": [
       "<div style=\"overflow:auto\"><table style=\"width:50%\"><tr><td><b>metric</b></td>\n",
       "<td><b>threshold</b></td>\n",
       "<td><b>value</b></td>\n",
       "<td><b>idx</b></td></tr>\n",
       "<tr><td>max f1</td>\n",
       "<td>0.2415785</td>\n",
       "<td>0.5734450</td>\n",
       "<td>234.0</td></tr>\n",
       "<tr><td>max f2</td>\n",
       "<td>0.1414777</td>\n",
       "<td>0.6624305</td>\n",
       "<td>306.0</td></tr>\n",
       "<tr><td>max f0point5</td>\n",
       "<td>0.4410041</td>\n",
       "<td>0.6204729</td>\n",
       "<td>148.0</td></tr>\n",
       "<tr><td>max accuracy</td>\n",
       "<td>0.4410041</td>\n",
       "<td>0.8307870</td>\n",
       "<td>148.0</td></tr>\n",
       "<tr><td>max precision</td>\n",
       "<td>0.8956553</td>\n",
       "<td>1.0</td>\n",
       "<td>0.0</td></tr>\n",
       "<tr><td>max recall</td>\n",
       "<td>0.0405048</td>\n",
       "<td>1.0</td>\n",
       "<td>394.0</td></tr>\n",
       "<tr><td>max specificity</td>\n",
       "<td>0.8956553</td>\n",
       "<td>1.0</td>\n",
       "<td>0.0</td></tr>\n",
       "<tr><td>max absolute_mcc</td>\n",
       "<td>0.3760018</td>\n",
       "<td>0.4566250</td>\n",
       "<td>172.0</td></tr>\n",
       "<tr><td>max min_per_class_accuracy</td>\n",
       "<td>0.1878690</td>\n",
       "<td>0.7279123</td>\n",
       "<td>269.0</td></tr>\n",
       "<tr><td>max mean_per_class_accuracy</td>\n",
       "<td>0.2229026</td>\n",
       "<td>0.7374538</td>\n",
       "<td>245.0</td></tr></table></div>"
      ],
      "text/plain": [
       "metric                       threshold    value     idx\n",
       "---------------------------  -----------  --------  -----\n",
       "max f1                       0.241578     0.573445  234\n",
       "max f2                       0.141478     0.66243   306\n",
       "max f0point5                 0.441004     0.620473  148\n",
       "max accuracy                 0.441004     0.830787  148\n",
       "max precision                0.895655     1         0\n",
       "max recall                   0.0405048    1         394\n",
       "max specificity              0.895655     1         0\n",
       "max absolute_mcc             0.376002     0.456625  172\n",
       "max min_per_class_accuracy   0.187869     0.727912  269\n",
       "max mean_per_class_accuracy  0.222903     0.737454  245"
      ]
     },
     "metadata": {},
     "output_type": "display_data"
    },
    {
     "name": "stdout",
     "output_type": "stream",
     "text": [
      "Gains/Lift Table: Avg response rate: 22.38 %\n",
      "\n"
     ]
    },
    {
     "data": {
      "text/html": [
       "<div style=\"overflow:auto\"><table style=\"width:50%\"><tr><td><b></b></td>\n",
       "<td><b>group</b></td>\n",
       "<td><b>cumulative_data_fraction</b></td>\n",
       "<td><b>lower_threshold</b></td>\n",
       "<td><b>lift</b></td>\n",
       "<td><b>cumulative_lift</b></td>\n",
       "<td><b>response_rate</b></td>\n",
       "<td><b>cumulative_response_rate</b></td>\n",
       "<td><b>capture_rate</b></td>\n",
       "<td><b>cumulative_capture_rate</b></td>\n",
       "<td><b>gain</b></td>\n",
       "<td><b>cumulative_gain</b></td></tr>\n",
       "<tr><td></td>\n",
       "<td>1</td>\n",
       "<td>0.01</td>\n",
       "<td>0.7940448</td>\n",
       "<td>4.2830540</td>\n",
       "<td>4.2830540</td>\n",
       "<td>0.9583333</td>\n",
       "<td>0.9583333</td>\n",
       "<td>0.0428305</td>\n",
       "<td>0.0428305</td>\n",
       "<td>328.3054004</td>\n",
       "<td>328.3054004</td></tr>\n",
       "<tr><td></td>\n",
       "<td>2</td>\n",
       "<td>0.02</td>\n",
       "<td>0.7652384</td>\n",
       "<td>4.0140699</td>\n",
       "<td>4.1485620</td>\n",
       "<td>0.8981481</td>\n",
       "<td>0.9282407</td>\n",
       "<td>0.0401407</td>\n",
       "<td>0.0829712</td>\n",
       "<td>301.4069936</td>\n",
       "<td>314.8561970</td></tr>\n",
       "<tr><td></td>\n",
       "<td>3</td>\n",
       "<td>0.03</td>\n",
       "<td>0.7436861</td>\n",
       "<td>3.6416305</td>\n",
       "<td>3.9795848</td>\n",
       "<td>0.8148148</td>\n",
       "<td>0.8904321</td>\n",
       "<td>0.0364163</td>\n",
       "<td>0.1193875</td>\n",
       "<td>264.1630457</td>\n",
       "<td>297.9584799</td></tr>\n",
       "<tr><td></td>\n",
       "<td>4</td>\n",
       "<td>0.04</td>\n",
       "<td>0.7264950</td>\n",
       "<td>3.6209394</td>\n",
       "<td>3.8899234</td>\n",
       "<td>0.8101852</td>\n",
       "<td>0.8703704</td>\n",
       "<td>0.0362094</td>\n",
       "<td>0.1555969</td>\n",
       "<td>262.0939375</td>\n",
       "<td>288.9923443</td></tr>\n",
       "<tr><td></td>\n",
       "<td>5</td>\n",
       "<td>0.05</td>\n",
       "<td>0.7063101</td>\n",
       "<td>3.3933375</td>\n",
       "<td>3.7906062</td>\n",
       "<td>0.7592593</td>\n",
       "<td>0.8481481</td>\n",
       "<td>0.0339334</td>\n",
       "<td>0.1895303</td>\n",
       "<td>239.3337472</td>\n",
       "<td>279.0606249</td></tr>\n",
       "<tr><td></td>\n",
       "<td>6</td>\n",
       "<td>0.1</td>\n",
       "<td>0.5883743</td>\n",
       "<td>3.0002069</td>\n",
       "<td>3.3954066</td>\n",
       "<td>0.6712963</td>\n",
       "<td>0.7597222</td>\n",
       "<td>0.1500103</td>\n",
       "<td>0.3395407</td>\n",
       "<td>200.0206911</td>\n",
       "<td>239.5406580</td></tr>\n",
       "<tr><td></td>\n",
       "<td>7</td>\n",
       "<td>0.15</td>\n",
       "<td>0.4069486</td>\n",
       "<td>2.2636044</td>\n",
       "<td>3.0181392</td>\n",
       "<td>0.5064815</td>\n",
       "<td>0.6753086</td>\n",
       "<td>0.1131802</td>\n",
       "<td>0.4527209</td>\n",
       "<td>126.3604387</td>\n",
       "<td>201.8139182</td></tr>\n",
       "<tr><td></td>\n",
       "<td>8</td>\n",
       "<td>0.2</td>\n",
       "<td>0.3143049</td>\n",
       "<td>1.7256363</td>\n",
       "<td>2.6950134</td>\n",
       "<td>0.3861111</td>\n",
       "<td>0.6030093</td>\n",
       "<td>0.0862818</td>\n",
       "<td>0.5390027</td>\n",
       "<td>72.5636251</td>\n",
       "<td>169.5013449</td></tr>\n",
       "<tr><td></td>\n",
       "<td>9</td>\n",
       "<td>0.3</td>\n",
       "<td>0.2198094</td>\n",
       "<td>1.2911235</td>\n",
       "<td>2.2270501</td>\n",
       "<td>0.2888889</td>\n",
       "<td>0.4983025</td>\n",
       "<td>0.1291124</td>\n",
       "<td>0.6681150</td>\n",
       "<td>29.1123526</td>\n",
       "<td>122.7050141</td></tr>\n",
       "<tr><td></td>\n",
       "<td>10</td>\n",
       "<td>0.4000463</td>\n",
       "<td>0.1759793</td>\n",
       "<td>0.8293284</td>\n",
       "<td>1.8774984</td>\n",
       "<td>0.1855622</td>\n",
       "<td>0.4200903</td>\n",
       "<td>0.0829712</td>\n",
       "<td>0.7510863</td>\n",
       "<td>-17.0671554</td>\n",
       "<td>87.7498401</td></tr>\n",
       "<tr><td></td>\n",
       "<td>11</td>\n",
       "<td>0.5</td>\n",
       "<td>0.1491582</td>\n",
       "<td>0.7452240</td>\n",
       "<td>1.6511484</td>\n",
       "<td>0.1667439</td>\n",
       "<td>0.3694444</td>\n",
       "<td>0.0744879</td>\n",
       "<td>0.8255742</td>\n",
       "<td>-25.4776032</td>\n",
       "<td>65.1148355</td></tr>\n",
       "<tr><td></td>\n",
       "<td>12</td>\n",
       "<td>0.6</td>\n",
       "<td>0.1268450</td>\n",
       "<td>0.5731430</td>\n",
       "<td>1.4714808</td>\n",
       "<td>0.1282407</td>\n",
       "<td>0.3292438</td>\n",
       "<td>0.0573143</td>\n",
       "<td>0.8828885</td>\n",
       "<td>-42.6857025</td>\n",
       "<td>47.1480792</td></tr>\n",
       "<tr><td></td>\n",
       "<td>13</td>\n",
       "<td>0.7</td>\n",
       "<td>0.1057468</td>\n",
       "<td>0.4800331</td>\n",
       "<td>1.3298454</td>\n",
       "<td>0.1074074</td>\n",
       "<td>0.2975529</td>\n",
       "<td>0.0480033</td>\n",
       "<td>0.9308918</td>\n",
       "<td>-51.9966894</td>\n",
       "<td>32.9845408</td></tr>\n",
       "<tr><td></td>\n",
       "<td>14</td>\n",
       "<td>0.8</td>\n",
       "<td>0.0878685</td>\n",
       "<td>0.3517484</td>\n",
       "<td>1.2075833</td>\n",
       "<td>0.0787037</td>\n",
       "<td>0.2701968</td>\n",
       "<td>0.0351748</td>\n",
       "<td>0.9660666</td>\n",
       "<td>-64.8251604</td>\n",
       "<td>20.7583282</td></tr>\n",
       "<tr><td></td>\n",
       "<td>15</td>\n",
       "<td>0.9</td>\n",
       "<td>0.0720348</td>\n",
       "<td>0.2255328</td>\n",
       "<td>1.0984666</td>\n",
       "<td>0.0504630</td>\n",
       "<td>0.2457819</td>\n",
       "<td>0.0225533</td>\n",
       "<td>0.9886199</td>\n",
       "<td>-77.4467205</td>\n",
       "<td>9.8466561</td></tr>\n",
       "<tr><td></td>\n",
       "<td>16</td>\n",
       "<td>1.0</td>\n",
       "<td>0.0269546</td>\n",
       "<td>0.1138010</td>\n",
       "<td>1.0</td>\n",
       "<td>0.0254630</td>\n",
       "<td>0.22375</td>\n",
       "<td>0.0113801</td>\n",
       "<td>1.0</td>\n",
       "<td>-88.6199048</td>\n",
       "<td>0.0</td></tr></table></div>"
      ],
      "text/plain": [
       "    group    cumulative_data_fraction    lower_threshold    lift      cumulative_lift    response_rate    cumulative_response_rate    capture_rate    cumulative_capture_rate    gain      cumulative_gain\n",
       "--  -------  --------------------------  -----------------  --------  -----------------  ---------------  --------------------------  --------------  -------------------------  --------  -----------------\n",
       "    1        0.01                        0.794045           4.28305   4.28305            0.958333         0.958333                    0.0428305       0.0428305                  328.305   328.305\n",
       "    2        0.02                        0.765238           4.01407   4.14856            0.898148         0.928241                    0.0401407       0.0829712                  301.407   314.856\n",
       "    3        0.03                        0.743686           3.64163   3.97958            0.814815         0.890432                    0.0364163       0.119388                   264.163   297.958\n",
       "    4        0.04                        0.726495           3.62094   3.88992            0.810185         0.87037                     0.0362094       0.155597                   262.094   288.992\n",
       "    5        0.05                        0.70631            3.39334   3.79061            0.759259         0.848148                    0.0339334       0.18953                    239.334   279.061\n",
       "    6        0.1                         0.588374           3.00021   3.39541            0.671296         0.759722                    0.15001         0.339541                   200.021   239.541\n",
       "    7        0.15                        0.406949           2.2636    3.01814            0.506481         0.675309                    0.11318         0.452721                   126.36    201.814\n",
       "    8        0.2                         0.314305           1.72564   2.69501            0.386111         0.603009                    0.0862818       0.539003                   72.5636   169.501\n",
       "    9        0.3                         0.219809           1.29112   2.22705            0.288889         0.498302                    0.129112        0.668115                   29.1124   122.705\n",
       "    10       0.400046                    0.175979           0.829328  1.8775             0.185562         0.42009                     0.0829712       0.751086                   -17.0672  87.7498\n",
       "    11       0.5                         0.149158           0.745224  1.65115            0.166744         0.369444                    0.0744879       0.825574                   -25.4776  65.1148\n",
       "    12       0.6                         0.126845           0.573143  1.47148            0.128241         0.329244                    0.0573143       0.882888                   -42.6857  47.1481\n",
       "    13       0.7                         0.105747           0.480033  1.32985            0.107407         0.297553                    0.0480033       0.930892                   -51.9967  32.9845\n",
       "    14       0.8                         0.0878685          0.351748  1.20758            0.0787037        0.270197                    0.0351748       0.966067                   -64.8252  20.7583\n",
       "    15       0.9                         0.0720348          0.225533  1.09847            0.050463         0.245782                    0.0225533       0.98862                    -77.4467  9.84666\n",
       "    16       1                           0.0269546          0.113801  1                  0.025463         0.22375                     0.0113801       1                          -88.6199  0"
      ]
     },
     "metadata": {},
     "output_type": "display_data"
    },
    {
     "name": "stdout",
     "output_type": "stream",
     "text": [
      "\n",
      "Scoring History: \n"
     ]
    },
    {
     "data": {
      "text/html": [
       "<div style=\"overflow:auto\"><table style=\"width:50%\"><tr><td><b></b></td>\n",
       "<td><b>timestamp</b></td>\n",
       "<td><b>duration</b></td>\n",
       "<td><b>number_of_trees</b></td>\n",
       "<td><b>training_rmse</b></td>\n",
       "<td><b>training_logloss</b></td>\n",
       "<td><b>training_auc</b></td>\n",
       "<td><b>training_lift</b></td>\n",
       "<td><b>training_classification_error</b></td></tr>\n",
       "<tr><td></td>\n",
       "<td>2017-09-06 21:24:15</td>\n",
       "<td> 0.090 sec</td>\n",
       "<td>0.0</td>\n",
       "<td>0.4167564</td>\n",
       "<td>0.5316134</td>\n",
       "<td>0.5</td>\n",
       "<td>1.0</td>\n",
       "<td>0.77625</td></tr>\n",
       "<tr><td></td>\n",
       "<td>2017-09-06 21:24:16</td>\n",
       "<td> 0.479 sec</td>\n",
       "<td>1.0</td>\n",
       "<td>0.4077295</td>\n",
       "<td>0.5112276</td>\n",
       "<td>0.7619704</td>\n",
       "<td>3.4901396</td>\n",
       "<td>0.1968981</td></tr>\n",
       "<tr><td></td>\n",
       "<td>2017-09-06 21:24:16</td>\n",
       "<td> 0.627 sec</td>\n",
       "<td>2.0</td>\n",
       "<td>0.4004482</td>\n",
       "<td>0.4961908</td>\n",
       "<td>0.7703013</td>\n",
       "<td>3.4843390</td>\n",
       "<td>0.2026389</td></tr>\n",
       "<tr><td></td>\n",
       "<td>2017-09-06 21:24:16</td>\n",
       "<td> 0.709 sec</td>\n",
       "<td>3.0</td>\n",
       "<td>0.3945478</td>\n",
       "<td>0.4846704</td>\n",
       "<td>0.7727510</td>\n",
       "<td>3.4862484</td>\n",
       "<td>0.2039815</td></tr>\n",
       "<tr><td></td>\n",
       "<td>2017-09-06 21:24:16</td>\n",
       "<td> 0.788 sec</td>\n",
       "<td>4.0</td>\n",
       "<td>0.3895914</td>\n",
       "<td>0.4752930</td>\n",
       "<td>0.7772916</td>\n",
       "<td>3.7880833</td>\n",
       "<td>0.2036111</td></tr>\n",
       "<tr><td>---</td>\n",
       "<td>---</td>\n",
       "<td>---</td>\n",
       "<td>---</td>\n",
       "<td>---</td>\n",
       "<td>---</td>\n",
       "<td>---</td>\n",
       "<td>---</td>\n",
       "<td>---</td></tr>\n",
       "<tr><td></td>\n",
       "<td>2017-09-06 21:24:18</td>\n",
       "<td> 3.085 sec</td>\n",
       "<td>21.0</td>\n",
       "<td>0.3638493</td>\n",
       "<td>0.4255805</td>\n",
       "<td>0.7913738</td>\n",
       "<td>4.2839122</td>\n",
       "<td>0.2024537</td></tr>\n",
       "<tr><td></td>\n",
       "<td>2017-09-06 21:24:18</td>\n",
       "<td> 3.247 sec</td>\n",
       "<td>22.0</td>\n",
       "<td>0.3634567</td>\n",
       "<td>0.4247080</td>\n",
       "<td>0.7920916</td>\n",
       "<td>4.2633164</td>\n",
       "<td>0.2012037</td></tr>\n",
       "<tr><td></td>\n",
       "<td>2017-09-06 21:24:19</td>\n",
       "<td> 3.429 sec</td>\n",
       "<td>23.0</td>\n",
       "<td>0.3630635</td>\n",
       "<td>0.4237819</td>\n",
       "<td>0.7930764</td>\n",
       "<td>4.2633164</td>\n",
       "<td>0.2006481</td></tr>\n",
       "<tr><td></td>\n",
       "<td>2017-09-06 21:24:19</td>\n",
       "<td> 3.695 sec</td>\n",
       "<td>24.0</td>\n",
       "<td>0.3627059</td>\n",
       "<td>0.4229763</td>\n",
       "<td>0.7937797</td>\n",
       "<td>4.2416718</td>\n",
       "<td>0.2006481</td></tr>\n",
       "<tr><td></td>\n",
       "<td>2017-09-06 21:24:21</td>\n",
       "<td> 5.936 sec</td>\n",
       "<td>50.0</td>\n",
       "<td>0.3564006</td>\n",
       "<td>0.4082849</td>\n",
       "<td>0.8120294</td>\n",
       "<td>4.2830540</td>\n",
       "<td>0.2098611</td></tr></table></div>"
      ],
      "text/plain": [
       "     timestamp            duration    number_of_trees    training_rmse        training_logloss     training_auc        training_lift       training_classification_error\n",
       "---  -------------------  ----------  -----------------  -------------------  -------------------  ------------------  ------------------  -------------------------------\n",
       "     2017-09-06 21:24:15  0.090 sec   0.0                0.4167564486603611   0.531613401260205    0.5                 1.0                 0.77625\n",
       "     2017-09-06 21:24:16  0.479 sec   1.0                0.4077294848328116   0.5112276280104775   0.7619704240805546  3.490139566101427   0.19689814814814816\n",
       "     2017-09-06 21:24:16  0.627 sec   2.0                0.4004482491455067   0.4961907603303655   0.7703012532462706  3.484339008181313   0.2026388888888889\n",
       "     2017-09-06 21:24:16  0.709 sec   3.0                0.3945478373632506   0.4846704487370289   0.7727509751938889  3.486248388483025   0.20398148148148149\n",
       "     2017-09-06 21:24:16  0.788 sec   4.0                0.38959142625671106  0.47529304349310947  0.7772916354532678  3.788083321218666   0.2036111111111111\n",
       "---  ---                  ---         ---                ---                  ---                  ---                 ---                 ---\n",
       "     2017-09-06 21:24:18  3.085 sec   21.0               0.36384926162520176  0.4255805012067303   0.7913737759272667  4.283912159205005   0.2024537037037037\n",
       "     2017-09-06 21:24:18  3.247 sec   22.0               0.36345666509967794  0.4247080346464702   0.7920915900061888  4.2633164276703654  0.2012037037037037\n",
       "     2017-09-06 21:24:19  3.429 sec   23.0               0.363063450266738    0.42378186411125424  0.7930763754402099  4.2633164276703654  0.20064814814814816\n",
       "     2017-09-06 21:24:19  3.695 sec   24.0               0.36270590850520296  0.42297629129798947  0.7937796710852191  4.241671839437203   0.20064814814814816\n",
       "     2017-09-06 21:24:21  5.936 sec   50.0               0.35640060776251375  0.40828487643875344  0.8120294350665728  4.283054003724395   0.2098611111111111"
      ]
     },
     "metadata": {},
     "output_type": "display_data"
    },
    {
     "name": "stdout",
     "output_type": "stream",
     "text": [
      "\n",
      "See the whole table with table.as_data_frame()\n",
      "Variable Importances: \n"
     ]
    },
    {
     "data": {
      "text/html": [
       "<div style=\"overflow:auto\"><table style=\"width:50%\"><tr><td><b>variable</b></td>\n",
       "<td><b>relative_importance</b></td>\n",
       "<td><b>scaled_importance</b></td>\n",
       "<td><b>percentage</b></td></tr>\n",
       "<tr><td>PAY_0</td>\n",
       "<td>2932.4401855</td>\n",
       "<td>1.0</td>\n",
       "<td>0.5636116</td></tr>\n",
       "<tr><td>PAY_2</td>\n",
       "<td>531.0946045</td>\n",
       "<td>0.1811101</td>\n",
       "<td>0.1020758</td></tr>\n",
       "<tr><td>LIMIT_BAL</td>\n",
       "<td>208.8082428</td>\n",
       "<td>0.0712063</td>\n",
       "<td>0.0401327</td></tr>\n",
       "<tr><td>BILL_AMT1</td>\n",
       "<td>196.2221069</td>\n",
       "<td>0.0669143</td>\n",
       "<td>0.0377137</td></tr>\n",
       "<tr><td>PAY_3</td>\n",
       "<td>187.8168335</td>\n",
       "<td>0.0640480</td>\n",
       "<td>0.0360982</td></tr>\n",
       "<tr><td>---</td>\n",
       "<td>---</td>\n",
       "<td>---</td>\n",
       "<td>---</td></tr>\n",
       "<tr><td>BILL_AMT4</td>\n",
       "<td>40.7689896</td>\n",
       "<td>0.0139028</td>\n",
       "<td>0.0078358</td></tr>\n",
       "<tr><td>BILL_AMT3</td>\n",
       "<td>32.8795280</td>\n",
       "<td>0.0112123</td>\n",
       "<td>0.0063194</td></tr>\n",
       "<tr><td>BILL_AMT5</td>\n",
       "<td>31.7188263</td>\n",
       "<td>0.0108165</td>\n",
       "<td>0.0060963</td></tr>\n",
       "<tr><td>MARRIAGE</td>\n",
       "<td>29.6317406</td>\n",
       "<td>0.0101048</td>\n",
       "<td>0.0056952</td></tr>\n",
       "<tr><td>SEX</td>\n",
       "<td>20.2798748</td>\n",
       "<td>0.0069157</td>\n",
       "<td>0.0038978</td></tr></table></div>"
      ],
      "text/plain": [
       "variable    relative_importance    scaled_importance     percentage\n",
       "----------  ---------------------  --------------------  ---------------------\n",
       "PAY_0       2932.440185546875      1.0                   0.5636115674571193\n",
       "PAY_2       531.0946044921875      0.18111012361302192   0.10207576065188792\n",
       "LIMIT_BAL   208.80824279785156     0.07120630928023877   0.040132699586271796\n",
       "BILL_AMT1   196.22210693359375     0.0669142742964423    0.03771365902147347\n",
       "PAY_3       187.81683349609375     0.06404796743060166   0.03609817531600393\n",
       "---         ---                    ---                   ---\n",
       "BILL_AMT4   40.76898956298828      0.013902752309808909  0.007835752021299484\n",
       "BILL_AMT3   32.8795280456543       0.01121234397472375   0.006319406762462439\n",
       "BILL_AMT5   31.718826293945312     0.010816529677324015  0.006096321245883036\n",
       "MARRIAGE    29.63174057006836      0.010104806473500939  0.00569518581538071\n",
       "SEX         20.279874801635742     0.006915699389740057  0.0038977681731136365"
      ]
     },
     "metadata": {},
     "output_type": "display_data"
    },
    {
     "name": "stdout",
     "output_type": "stream",
     "text": [
      "\n",
      "See the whole table with table.as_data_frame()\n",
      "\n"
     ]
    }
   ],
   "source": [
    "# Train a GBM model\n",
    "from h2o.estimators.gbm import H2OGradientBoostingEstimator\n",
    "model_gbm = H2OGradientBoostingEstimator(seed = 1234)\n",
    "model_gbm.train(x = features, y = target, training_frame = df_train)\n",
    "print(model_gbm)"
   ]
  },
  {
   "cell_type": "code",
   "execution_count": 7,
   "metadata": {
    "collapsed": false
   },
   "outputs": [
    {
     "name": "stdout",
     "output_type": "stream",
     "text": [
      "gbm prediction progress: |████████████████████████████████████████████████| 100%\n"
     ]
    },
    {
     "data": {
      "text/html": [
       "<table>\n",
       "<thead>\n",
       "<tr><th>predict  </th><th style=\"text-align: right;\">      No</th><th style=\"text-align: right;\">      Yes</th></tr>\n",
       "</thead>\n",
       "<tbody>\n",
       "<tr><td>No       </td><td style=\"text-align: right;\">0.856357</td><td style=\"text-align: right;\">0.143643 </td></tr>\n",
       "<tr><td>No       </td><td style=\"text-align: right;\">0.916529</td><td style=\"text-align: right;\">0.0834714</td></tr>\n",
       "<tr><td>No       </td><td style=\"text-align: right;\">0.92938 </td><td style=\"text-align: right;\">0.0706196</td></tr>\n",
       "<tr><td>Yes      </td><td style=\"text-align: right;\">0.38585 </td><td style=\"text-align: right;\">0.61415  </td></tr>\n",
       "<tr><td>No       </td><td style=\"text-align: right;\">0.92741 </td><td style=\"text-align: right;\">0.07259  </td></tr>\n",
       "</tbody>\n",
       "</table>"
      ]
     },
     "metadata": {},
     "output_type": "display_data"
    },
    {
     "data": {
      "text/plain": []
     },
     "execution_count": 7,
     "metadata": {},
     "output_type": "execute_result"
    }
   ],
   "source": [
    "# Use GBM model for making predictions\n",
    "yhat_test = model_gbm.predict(df_test)\n",
    "yhat_test.head(5)"
   ]
  },
  {
   "cell_type": "code",
   "execution_count": 8,
   "metadata": {
    "collapsed": false
   },
   "outputs": [
    {
     "name": "stdout",
     "output_type": "stream",
     "text": [
      "AutoML progress: |████████████████████████████████████████████████████████| 100%\n",
      "Parse progress: |█████████████████████████████████████████████████████████| 100%\n"
     ]
    }
   ],
   "source": [
    "# (Extra) Use H2O's AutoML\n",
    "from h2o.automl import H2OAutoML\n",
    "aml = H2OAutoML(max_runtime_secs = 60, seed = 1234)\n",
    "aml.train(x = features, y = target, training_frame = df_train)"
   ]
  },
  {
   "cell_type": "code",
   "execution_count": 9,
   "metadata": {
    "collapsed": false
   },
   "outputs": [
    {
     "data": {
      "text/html": [
       "<table>\n",
       "<thead>\n",
       "<tr><th>model_id                                 </th><th style=\"text-align: right;\">     auc</th><th style=\"text-align: right;\">  logloss</th></tr>\n",
       "</thead>\n",
       "<tbody>\n",
       "<tr><td>StackedEnsemble_0_AutoML_20170906_212422 </td><td style=\"text-align: right;\">0.773794</td><td style=\"text-align: right;\"> 0.438848</td></tr>\n",
       "<tr><td>GBM_grid_0_AutoML_20170906_212422_model_0</td><td style=\"text-align: right;\">0.771119</td><td style=\"text-align: right;\"> 0.441382</td></tr>\n",
       "<tr><td>DRF_0_AutoML_20170906_212422             </td><td style=\"text-align: right;\">0.763554</td><td style=\"text-align: right;\"> 0.449797</td></tr>\n",
       "<tr><td>XRT_0_AutoML_20170906_212422             </td><td style=\"text-align: right;\">0.759662</td><td style=\"text-align: right;\"> 0.448924</td></tr>\n",
       "<tr><td>GLM_grid_0_AutoML_20170906_212422_model_0</td><td style=\"text-align: right;\">0.71226 </td><td style=\"text-align: right;\"> 0.474675</td></tr>\n",
       "<tr><td>GLM_grid_0_AutoML_20170906_212422_model_1</td><td style=\"text-align: right;\">0.71226 </td><td style=\"text-align: right;\"> 0.474675</td></tr>\n",
       "</tbody>\n",
       "</table>"
      ]
     },
     "metadata": {},
     "output_type": "display_data"
    },
    {
     "name": "stdout",
     "output_type": "stream",
     "text": [
      "\n"
     ]
    }
   ],
   "source": [
    "# Print leaderboard\n",
    "print(aml.leaderboard)"
   ]
  },
  {
   "cell_type": "code",
   "execution_count": 10,
   "metadata": {
    "collapsed": false
   },
   "outputs": [
    {
     "name": "stdout",
     "output_type": "stream",
     "text": [
      "stackedensemble prediction progress: |████████████████████████████████████| 100%\n"
     ]
    },
    {
     "data": {
      "text/html": [
       "<table>\n",
       "<thead>\n",
       "<tr><th>predict  </th><th style=\"text-align: right;\">      No</th><th style=\"text-align: right;\">     Yes</th></tr>\n",
       "</thead>\n",
       "<tbody>\n",
       "<tr><td>No       </td><td style=\"text-align: right;\">0.849841</td><td style=\"text-align: right;\">0.150159</td></tr>\n",
       "<tr><td>No       </td><td style=\"text-align: right;\">0.884443</td><td style=\"text-align: right;\">0.115557</td></tr>\n",
       "<tr><td>No       </td><td style=\"text-align: right;\">0.893877</td><td style=\"text-align: right;\">0.106123</td></tr>\n",
       "<tr><td>Yes      </td><td style=\"text-align: right;\">0.307224</td><td style=\"text-align: right;\">0.692776</td></tr>\n",
       "<tr><td>No       </td><td style=\"text-align: right;\">0.868906</td><td style=\"text-align: right;\">0.131094</td></tr>\n",
       "</tbody>\n",
       "</table>"
      ]
     },
     "metadata": {},
     "output_type": "display_data"
    },
    {
     "data": {
      "text/plain": []
     },
     "execution_count": 10,
     "metadata": {},
     "output_type": "execute_result"
    }
   ],
   "source": [
    "# Use best model for making predictions\n",
    "best_model = aml.leader\n",
    "yhat_test = best_model.predict(df_test)\n",
    "yhat_test.head(5)"
   ]
  }
 ],
 "metadata": {
  "kernelspec": {
   "display_name": "Python 3",
   "language": "python",
   "name": "python3"
  },
  "language_info": {
   "codemirror_mode": {
    "name": "ipython",
    "version": 3
   },
   "file_extension": ".py",
   "mimetype": "text/x-python",
   "name": "python",
   "nbconvert_exporter": "python",
   "pygments_lexer": "ipython3",
   "version": "3.6.1"
  }
 },
 "nbformat": 4,
 "nbformat_minor": 2
}
